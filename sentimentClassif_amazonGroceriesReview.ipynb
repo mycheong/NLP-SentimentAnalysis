{
 "cells": [
  {
   "cell_type": "markdown",
   "metadata": {},
   "source": [
    "# Sentiment analysis - Text classification for reviews of Amazon Grocery and Gourmet \n",
    "\n",
    "\n"
   ]
  },
  {
   "cell_type": "markdown",
   "metadata": {},
   "source": [
    "### Import the review data, pre-process, explore"
   ]
  },
  {
   "cell_type": "code",
   "execution_count": 1,
   "metadata": {},
   "outputs": [
    {
     "data": {
      "text/html": [
       "<div>\n",
       "<style scoped>\n",
       "    .dataframe tbody tr th:only-of-type {\n",
       "        vertical-align: middle;\n",
       "    }\n",
       "\n",
       "    .dataframe tbody tr th {\n",
       "        vertical-align: top;\n",
       "    }\n",
       "\n",
       "    .dataframe thead th {\n",
       "        text-align: right;\n",
       "    }\n",
       "</style>\n",
       "<table border=\"1\" class=\"dataframe\">\n",
       "  <thead>\n",
       "    <tr style=\"text-align: right;\">\n",
       "      <th></th>\n",
       "      <th>asin</th>\n",
       "      <th>helpful</th>\n",
       "      <th>overall</th>\n",
       "      <th>reviewText</th>\n",
       "      <th>reviewTime</th>\n",
       "      <th>reviewerID</th>\n",
       "      <th>reviewerName</th>\n",
       "      <th>summary</th>\n",
       "      <th>unixReviewTime</th>\n",
       "    </tr>\n",
       "  </thead>\n",
       "  <tbody>\n",
       "    <tr>\n",
       "      <th>0</th>\n",
       "      <td>B000FDMMVW</td>\n",
       "      <td>[2, 2]</td>\n",
       "      <td>5</td>\n",
       "      <td>I bought each of the Ryvita varieties Amazon o...</td>\n",
       "      <td>02 21, 2007</td>\n",
       "      <td>A2OL5WLCNZVD9K</td>\n",
       "      <td>nonpareil</td>\n",
       "      <td>Ryvita is even better with fruit in it.</td>\n",
       "      <td>1172016000</td>\n",
       "    </tr>\n",
       "    <tr>\n",
       "      <th>1</th>\n",
       "      <td>B001EQ5IN8</td>\n",
       "      <td>[0, 0]</td>\n",
       "      <td>5</td>\n",
       "      <td>I love this tea, it smells and tastes so great...</td>\n",
       "      <td>06 15, 2014</td>\n",
       "      <td>A20WEGZGLW6U9F</td>\n",
       "      <td>yakoanders</td>\n",
       "      <td>The best tea</td>\n",
       "      <td>1402790400</td>\n",
       "    </tr>\n",
       "    <tr>\n",
       "      <th>2</th>\n",
       "      <td>B002C58RME</td>\n",
       "      <td>[1, 2]</td>\n",
       "      <td>4</td>\n",
       "      <td>To say 'this is bad coffee' or 'this is good c...</td>\n",
       "      <td>04 28, 2011</td>\n",
       "      <td>A2YKWYC3WQJX5J</td>\n",
       "      <td>Shannon Lastowski \"Queen of Caffeine\"</td>\n",
       "      <td>Not the best but worth the price</td>\n",
       "      <td>1303948800</td>\n",
       "    </tr>\n",
       "    <tr>\n",
       "      <th>3</th>\n",
       "      <td>B00DBSGJ4E</td>\n",
       "      <td>[0, 0]</td>\n",
       "      <td>3</td>\n",
       "      <td>At least the 3rd ingredient is APPLE PUREE CON...</td>\n",
       "      <td>11 21, 2013</td>\n",
       "      <td>A1I6U5AQAT3ZG9</td>\n",
       "      <td>E. B. MULLIGAN \"Bronwyn\"</td>\n",
       "      <td>the first two ingredients are CORN SYRUP &amp; SUGAR</td>\n",
       "      <td>1384992000</td>\n",
       "    </tr>\n",
       "    <tr>\n",
       "      <th>4</th>\n",
       "      <td>B0049TZA26</td>\n",
       "      <td>[0, 0]</td>\n",
       "      <td>4</td>\n",
       "      <td>great taste, great quality, a bit pricey..... ...</td>\n",
       "      <td>04 9, 2013</td>\n",
       "      <td>A3KJO30ZT23J0N</td>\n",
       "      <td>tooth fairy \"tooth fairy\"</td>\n",
       "      <td>kirkland garlic</td>\n",
       "      <td>1365465600</td>\n",
       "    </tr>\n",
       "  </tbody>\n",
       "</table>\n",
       "</div>"
      ],
      "text/plain": [
       "         asin helpful  overall  \\\n",
       "0  B000FDMMVW  [2, 2]        5   \n",
       "1  B001EQ5IN8  [0, 0]        5   \n",
       "2  B002C58RME  [1, 2]        4   \n",
       "3  B00DBSGJ4E  [0, 0]        3   \n",
       "4  B0049TZA26  [0, 0]        4   \n",
       "\n",
       "                                          reviewText   reviewTime  \\\n",
       "0  I bought each of the Ryvita varieties Amazon o...  02 21, 2007   \n",
       "1  I love this tea, it smells and tastes so great...  06 15, 2014   \n",
       "2  To say 'this is bad coffee' or 'this is good c...  04 28, 2011   \n",
       "3  At least the 3rd ingredient is APPLE PUREE CON...  11 21, 2013   \n",
       "4  great taste, great quality, a bit pricey..... ...   04 9, 2013   \n",
       "\n",
       "       reviewerID                           reviewerName  \\\n",
       "0  A2OL5WLCNZVD9K                              nonpareil   \n",
       "1  A20WEGZGLW6U9F                             yakoanders   \n",
       "2  A2YKWYC3WQJX5J  Shannon Lastowski \"Queen of Caffeine\"   \n",
       "3  A1I6U5AQAT3ZG9               E. B. MULLIGAN \"Bronwyn\"   \n",
       "4  A3KJO30ZT23J0N              tooth fairy \"tooth fairy\"   \n",
       "\n",
       "                                            summary  unixReviewTime  \n",
       "0           Ryvita is even better with fruit in it.      1172016000  \n",
       "1                                      The best tea      1402790400  \n",
       "2                  Not the best but worth the price      1303948800  \n",
       "3  the first two ingredients are CORN SYRUP & SUGAR      1384992000  \n",
       "4                                   kirkland garlic      1365465600  "
      ]
     },
     "execution_count": 1,
     "metadata": {},
     "output_type": "execute_result"
    }
   ],
   "source": [
    "import pandas as pd\n",
    "\n",
    "# Read the Amazon Grocery_and_Gourmet review data into dataframe\n",
    "# Source : http://jmcauley.ucsd.edu/data/amazon/\n",
    "df = pd.read_json('Grocery_and_Gourmet_Food_5.json', lines=True)\n",
    "\n",
    "# shuffle df rows\n",
    "df = df.sample(frac=1, random_state=17).reset_index(drop=True)\n",
    "\n",
    "df.head()\n"
   ]
  },
  {
   "cell_type": "code",
   "execution_count": 2,
   "metadata": {},
   "outputs": [
    {
     "name": "stdout",
     "output_type": "stream",
     "text": [
      "Size of df :  (151232, 5)\n",
      "\n",
      "Counts of each score group in data : \n",
      "5    87436\n",
      "4    32593\n",
      "3    17512\n",
      "2     7916\n",
      "1     5775\n",
      "Name: overall, dtype: int64\n",
      "\n",
      "Percentage of each score group in data : \n",
      "5    57.816\n",
      "4    21.552\n",
      "3    11.580\n",
      "2     5.234\n",
      "1     3.819\n",
      "Name: overall, dtype: float64\n"
     ]
    },
    {
     "data": {
      "text/html": [
       "<div>\n",
       "<style scoped>\n",
       "    .dataframe tbody tr th:only-of-type {\n",
       "        vertical-align: middle;\n",
       "    }\n",
       "\n",
       "    .dataframe tbody tr th {\n",
       "        vertical-align: top;\n",
       "    }\n",
       "\n",
       "    .dataframe thead th {\n",
       "        text-align: right;\n",
       "    }\n",
       "</style>\n",
       "<table border=\"1\" class=\"dataframe\">\n",
       "  <thead>\n",
       "    <tr style=\"text-align: right;\">\n",
       "      <th></th>\n",
       "      <th>overall</th>\n",
       "      <th>reviewText</th>\n",
       "      <th>reviewTime</th>\n",
       "      <th>reviewerID</th>\n",
       "      <th>summary</th>\n",
       "    </tr>\n",
       "  </thead>\n",
       "  <tbody>\n",
       "    <tr>\n",
       "      <th>0</th>\n",
       "      <td>5</td>\n",
       "      <td>I bought each of the Ryvita varieties Amazon o...</td>\n",
       "      <td>02 21, 2007</td>\n",
       "      <td>A2OL5WLCNZVD9K</td>\n",
       "      <td>Ryvita is even better with fruit in it.</td>\n",
       "    </tr>\n",
       "    <tr>\n",
       "      <th>1</th>\n",
       "      <td>5</td>\n",
       "      <td>I love this tea, it smells and tastes so great...</td>\n",
       "      <td>06 15, 2014</td>\n",
       "      <td>A20WEGZGLW6U9F</td>\n",
       "      <td>The best tea</td>\n",
       "    </tr>\n",
       "    <tr>\n",
       "      <th>2</th>\n",
       "      <td>4</td>\n",
       "      <td>To say 'this is bad coffee' or 'this is good c...</td>\n",
       "      <td>04 28, 2011</td>\n",
       "      <td>A2YKWYC3WQJX5J</td>\n",
       "      <td>Not the best but worth the price</td>\n",
       "    </tr>\n",
       "    <tr>\n",
       "      <th>3</th>\n",
       "      <td>3</td>\n",
       "      <td>At least the 3rd ingredient is APPLE PUREE CON...</td>\n",
       "      <td>11 21, 2013</td>\n",
       "      <td>A1I6U5AQAT3ZG9</td>\n",
       "      <td>the first two ingredients are CORN SYRUP &amp; SUGAR</td>\n",
       "    </tr>\n",
       "    <tr>\n",
       "      <th>4</th>\n",
       "      <td>4</td>\n",
       "      <td>great taste, great quality, a bit pricey..... ...</td>\n",
       "      <td>04 9, 2013</td>\n",
       "      <td>A3KJO30ZT23J0N</td>\n",
       "      <td>kirkland garlic</td>\n",
       "    </tr>\n",
       "  </tbody>\n",
       "</table>\n",
       "</div>"
      ],
      "text/plain": [
       "   overall                                         reviewText   reviewTime  \\\n",
       "0        5  I bought each of the Ryvita varieties Amazon o...  02 21, 2007   \n",
       "1        5  I love this tea, it smells and tastes so great...  06 15, 2014   \n",
       "2        4  To say 'this is bad coffee' or 'this is good c...  04 28, 2011   \n",
       "3        3  At least the 3rd ingredient is APPLE PUREE CON...  11 21, 2013   \n",
       "4        4  great taste, great quality, a bit pricey..... ...   04 9, 2013   \n",
       "\n",
       "       reviewerID                                           summary  \n",
       "0  A2OL5WLCNZVD9K           Ryvita is even better with fruit in it.  \n",
       "1  A20WEGZGLW6U9F                                      The best tea  \n",
       "2  A2YKWYC3WQJX5J                  Not the best but worth the price  \n",
       "3  A1I6U5AQAT3ZG9  the first two ingredients are CORN SYRUP & SUGAR  \n",
       "4  A3KJO30ZT23J0N                                   kirkland garlic  "
      ]
     },
     "execution_count": 2,
     "metadata": {},
     "output_type": "execute_result"
    }
   ],
   "source": [
    "df = df.drop(df[df['reviewText']==''].index)    # drop rows that has empty reviewText\n",
    "cols = ['overall', 'reviewText', 'reviewTime', 'reviewerID', 'summary']\n",
    "df = df[cols]  # drop columns 'asin', 'helpful', 'reviewerName'\n",
    "\n",
    "print('Size of df : ', df.shape)\n",
    "\n",
    "# Check percentage of each rating group in data\n",
    "df['overall'].hist(bins=5)\n",
    "\n",
    "print('\\nCounts of each score group in data : \\n{}'.format(df['overall'].value_counts()))\n",
    "print('\\nPercentage of each score group in data : \\n{}'.format(round(df['overall'].value_counts()*100/len(df), 3)))\n",
    "\n",
    "df.head()"
   ]
  },
  {
   "cell_type": "markdown",
   "metadata": {},
   "source": [
    "## Define binary target classes"
   ]
  },
  {
   "cell_type": "code",
   "execution_count": 3,
   "metadata": {},
   "outputs": [
    {
     "data": {
      "text/plain": [
       "1    120029\n",
       "0     13691\n",
       "Name: Positively Rated, dtype: int64"
      ]
     },
     "execution_count": 3,
     "metadata": {},
     "output_type": "execute_result"
    },
    {
     "data": {
      "image/png": "[encoded data removed]",
      "text/plain": [
       "<Figure size 432x288 with 1 Axes>"
      ]
     },
     "metadata": {
      "needs_background": "light"
     },
     "output_type": "display_data"
    }
   ],
   "source": [
    "import numpy as np\n",
    "\n",
    "# Remove any 'neutral' ratings equal to 3\n",
    "df = df[df['overall'] != 3]\n",
    "\n",
    "# Encode 4s and 5s as 1 (rated positively)\n",
    "# Encode 1s and 2s as 0 (rated poorly)\n",
    "df['Positively Rated'] = np.where(df['overall'] > 3, 1, 0)\n",
    "\n",
    "# Re-index df\n",
    "df.index = range(len(df))\n",
    "\n",
    "# df.head(10)\n",
    "\n",
    "df['Positively Rated'].hist()\n",
    "df['Positively Rated'].value_counts()"
   ]
  },
  {
   "cell_type": "markdown",
   "metadata": {},
   "source": [
    "## Split data into test-train stratified portions "
   ]
  },
  {
   "cell_type": "code",
   "execution_count": 4,
   "metadata": {},
   "outputs": [],
   "source": [
    "# Keep test set for final testing of selected model (10%)\n",
    "#\n",
    "# Training set is used for fitting models, hyperparamter search, x-validation, model selection etc.  \n",
    "#\n",
    "from sklearn.model_selection import train_test_split\n",
    "\n",
    "X, X_test, y, y_test = train_test_split(df['reviewText'], \n",
    "                                                    df['Positively Rated'], \n",
    "                                                    test_size=0.1,\n",
    "                                                    stratify = df['Positively Rated'],\n",
    "                                                    random_state=17)\n"
   ]
  },
  {
   "cell_type": "markdown",
   "metadata": {},
   "source": [
    "## Text cleaning and pre-processing"
   ]
  },
  {
   "cell_type": "markdown",
   "metadata": {},
   "source": [
    "### Punctuation and special characters removal"
   ]
  },
  {
   "cell_type": "code",
   "execution_count": 31,
   "metadata": {},
   "outputs": [],
   "source": [
    "import re\n",
    "\n",
    "# function for removing punctuations and special characters\n",
    "\n",
    "def cleanpunc(text): \n",
    "\n",
    "    cleaned = re.sub(r'[?|!|\\'|\"|#|&]',r'',text)\n",
    "    cleaned = re.sub(r'[.|,|;|)|(|\\|/|-]',r' ',cleaned)\n",
    "    cleaned = re.sub(r'[0-9]',r'',cleaned)\n",
    "\n",
    "    return  cleaned \n"
   ]
  },
  {
   "cell_type": "code",
   "execution_count": null,
   "metadata": {},
   "outputs": [],
   "source": [
    "# Remove punctuation and special characters from reviewText and create a new column for the cleanedText\n",
    "\n",
    "df['cleanedText'] = df['reviewText'].apply(lambda x : cleanpunc(x))\n"
   ]
  },
  {
   "cell_type": "code",
   "execution_count": null,
   "metadata": {},
   "outputs": [],
   "source": [
    "df.head()"
   ]
  },
  {
   "cell_type": "markdown",
   "metadata": {},
   "source": [
    "### Lemmatization and POS tagging"
   ]
  },
  {
   "cell_type": "code",
   "execution_count": 23,
   "metadata": {},
   "outputs": [],
   "source": [
    "import spacy\n",
    "nlp = spacy.load('en_core_web_sm', disable=['parser', 'ner'])\n",
    "\n",
    "# Function for lemmatization and POS tagging\n",
    "\n",
    "def lemmatize_pos(text, func):\n",
    "    doc = nlp(text)\n",
    "      \n",
    "    if(func == 'lemma'):\n",
    "        lemma = \" \".join([token.lemma_ for token in doc])\n",
    "        return lemma\n",
    "    if(func == 'pos'):\n",
    "        pos = [token.pos_ for token in doc]\n",
    "        return pos\n"
   ]
  },
  {
   "cell_type": "code",
   "execution_count": null,
   "metadata": {},
   "outputs": [],
   "source": [
    "# Put lemmatized and POS-tagged text in new columns\n",
    "\n",
    "df.loc[:, 'lemma'] = df['reviewText'].apply(lambda x : lemmatize_pos(x, 'lemma'))\n",
    "df.loc[:, 'pos'] = df['reviewText'].apply(lambda x : lemmatize_pos(x, 'pos'))\n",
    "\n",
    "df.head()"
   ]
  },
  {
   "cell_type": "markdown",
   "metadata": {},
   "source": [
    "## Functions for model evaluation"
   ]
  },
  {
   "cell_type": "code",
   "execution_count": 12,
   "metadata": {},
   "outputs": [],
   "source": [
    "from sklearn.metrics import roc_auc_score\n",
    "from sklearn.metrics import confusion_matrix\n",
    "import matplotlib.pyplot as plt\n",
    "import seaborn as sns\n",
    "\n",
    "## Function for printing MEAN ACCURACY and ROC_AUC_SCORE\n",
    "#\n",
    "def Score_Model(x_test, y_test, model):\n",
    "    ## Print mean accuracy\n",
    "    print('Mean accuracy : {:.3f}'.format(model.score(x_test, y_test)) )\n",
    "    \n",
    "    prediction_prob = model.predict_proba(x_test)\n",
    "\n",
    "    ## Print ROC-AUC score\n",
    "    print('ROC-AUC score : {:.3f}'.format(roc_auc_score(y_test, prediction_prob[:,1])) )\n",
    "    \n",
    "    \n",
    "def Print_ConfMatrix(x_test, y_test, model):\n",
    "    \n",
    "    prediction = model.predict(x_test)\n",
    "    \n",
    "    ## generate and print confusion matrix\n",
    "    #\n",
    "    cm = confusion_matrix(y_test, prediction)\n",
    "    # Normalise\n",
    "    cmn = cm.astype('float') / cm.sum(axis=1)[:, np.newaxis]\n",
    "    fig, ax = plt.subplots(figsize=(7,5))\n",
    "    sns.heatmap(cmn, annot=True, fmt='.2f', xticklabels=[\"0\",\"1\"], yticklabels=[\"0\",\"1\"])\n",
    "    plt.ylabel('Actual')\n",
    "    plt.xlabel('Predicted')\n",
    "    plt.show(block=False)"
   ]
  },
  {
   "cell_type": "code",
   "execution_count": null,
   "metadata": {},
   "outputs": [],
   "source": [
    "# test = df[0:20000]\n",
    "len(df)*90/100*80/100\n"
   ]
  },
  {
   "cell_type": "markdown",
   "metadata": {},
   "source": [
    "## Multinomial Naive Bayes classifier (un-lemmatized text)"
   ]
  },
  {
   "cell_type": "code",
   "execution_count": 5,
   "metadata": {},
   "outputs": [
    {
     "data": {
      "text/plain": [
       "42972    I haven't found a use for all the flavors, but...\n",
       "47075    Convenience is of course the reason I buy Tast...\n",
       "44345    This is one of better tasting beef jerkys I've...\n",
       "16804    This salt may be light, but it is seasoning wo...\n",
       "10448    Some of the bags don't pop well.  Some don't e...\n",
       "Name: reviewText, dtype: object"
      ]
     },
     "execution_count": 5,
     "metadata": {},
     "output_type": "execute_result"
    }
   ],
   "source": [
    "from sklearn.model_selection import train_test_split\n",
    "\n",
    "# Split training data into training and validation sets\n",
    "X_train, X_val, y_train, y_val = train_test_split(X, y, \n",
    "                                                  test_size=0.2,\n",
    "                                                  random_state=7)\n",
    "\n",
    "X_train.head()"
   ]
  },
  {
   "cell_type": "markdown",
   "metadata": {},
   "source": [
    "### Remove punctuation, symbols and numbers from text"
   ]
  },
  {
   "cell_type": "code",
   "execution_count": 42,
   "metadata": {},
   "outputs": [],
   "source": [
    "# Remove punctuation, special characters and numbers from X_train and X_val\n",
    "\n",
    "X_train_clean = X_train.apply(lambda x : cleanpunc(x))    \n",
    "X_val_clean = X_val.apply(lambda x : cleanpunc(x))    "
   ]
  },
  {
   "cell_type": "markdown",
   "metadata": {},
   "source": [
    "#### Hyperparameter search with cross validation"
   ]
  },
  {
   "cell_type": "code",
   "execution_count": 43,
   "metadata": {},
   "outputs": [],
   "source": [
    "from sklearn.naive_bayes import MultinomialNB\n",
    "from sklearn.pipeline import Pipeline\n",
    "from sklearn.feature_extraction.text import TfidfTransformer, CountVectorizer\n",
    "\n",
    "from sklearn.model_selection import GridSearchCV  # TimeSeriesSplit,\n",
    "\n",
    "from pprint import pprint\n",
    "from time import time"
   ]
  },
  {
   "cell_type": "code",
   "execution_count": 51,
   "metadata": {},
   "outputs": [
    {
     "name": "stdout",
     "output_type": "stream",
     "text": [
      "Performing grid search...\n",
      "pipeline: ['vect', 'tfidf', 'clf']\n",
      "parameters:\n",
      "{'clf__alpha': (0.001, 0.01, 0.1, 0.5, 1, 2),\n",
      " 'vect__min_df': (5, 10, 15, 20),\n",
      " 'vect__ngram_range': ((1, 1), (1, 2), (1, 3))}\n",
      "Fitting 7 folds for each of 72 candidates, totalling 504 fits\n"
     ]
    },
    {
     "name": "stderr",
     "output_type": "stream",
     "text": [
      "[Parallel(n_jobs=4)]: Using backend LokyBackend with 4 concurrent workers.\n",
      "[Parallel(n_jobs=4)]: Done  42 tasks      | elapsed:  4.6min\n",
      "[Parallel(n_jobs=4)]: Done 192 tasks      | elapsed: 21.2min\n",
      "[Parallel(n_jobs=4)]: Done 442 tasks      | elapsed: 494.6min\n",
      "[Parallel(n_jobs=4)]: Done 504 out of 504 | elapsed: 501.9min finished\n"
     ]
    },
    {
     "name": "stdout",
     "output_type": "stream",
     "text": [
      "done in 30158.616s\n",
      "\n",
      "Best score: 0.945\n",
      "Best parameters set:\n",
      "\tclf__alpha: 0.1\n",
      "\tvect__min_df: 10\n",
      "\tvect__ngram_range: (1, 3)\n"
     ]
    }
   ],
   "source": [
    "# Define a pipeline combining a text feature extractor with a simple\n",
    "# classifier\n",
    "pipeline = Pipeline([\n",
    "    ('vect', CountVectorizer()),\n",
    "    ('tfidf', TfidfTransformer()),\n",
    "    ('clf', MultinomialNB()),\n",
    "])\n",
    "\n",
    "parameters = {\n",
    "    'vect__min_df': (5, 10, 15, 20),\n",
    "    # 'vect__max_features': (None, 5000, 10000, 50000),\n",
    "    'vect__ngram_range': ((1, 1), (1, 2), (1,3)),  # unigrams or bigrams or trigrams\n",
    "    # 'tfidf__use_idf': (True, False),\n",
    "    # 'tfidf__norm': ('l1', 'l2'),\n",
    "    # 'clf__max_iter': (20,),\n",
    "    'clf__alpha': (0.001, 0.01, 0.1, 0.5, 1, 2),\n",
    "    # 'clf__penalty': ('l2', 'elasticnet'),\n",
    "    # 'clf__max_iter': (10, 50, 80),\n",
    "}\n",
    "\n",
    "\n",
    "if __name__ == \"__main__\":\n",
    "    # multiprocessing requires the fork to happen in a __main__ protected\n",
    "    # block\n",
    "\n",
    "    # find the best parameters for both the feature extraction and the\n",
    "    # classifier\n",
    "    grid_search = GridSearchCV(pipeline, parameters, cv=7, n_jobs=4, verbose=1)\n",
    "\n",
    "    print(\"Performing grid search...\")\n",
    "    print(\"pipeline:\", [name for name, _ in pipeline.steps])\n",
    "    print(\"parameters:\")\n",
    "    pprint(parameters)\n",
    "    t0 = time()\n",
    "    grid_search.fit(X_train_clean, y_train)\n",
    "    print(\"done in %0.3fs\" % (time() - t0))\n",
    "    print()\n",
    "\n",
    "    print(\"Best score: %0.3f\" % grid_search.best_score_)\n",
    "    print(\"Best parameters set:\")\n",
    "    best_parameters = grid_search.best_estimator_.get_params()\n",
    "    for param_name in sorted(parameters.keys()):\n",
    "        print(\"\\t%s: %r\" % (param_name, best_parameters[param_name]))\n",
    "        \n",
    "# parameters = {\"alpha\":  np.array( [1e-3, 1e-2, 0.1, 0.5, 1, 2])}\n",
    "        \n",
    "# NB_cv = make_pipeline(StandardScaler(), \n",
    "#                     GridSearchCV(('vect', CountVectorizer(ngram_range=(1,3), min_df = 10),\n",
    "#                                   naive_bayes.MultinomialNB(),\n",
    "#                                  param_grid=parameters,\n",
    "#                                  cv=7,\n",
    "#                                  refit=True))\n",
    "\n",
    "# NB_cv.fit(X_train, y_train)\n",
    "# NB_cv.predict()\n",
    "\n",
    "\n",
    "# n_folds = 7\n",
    "# cv_folds = TimeSeriesSplit(n_splits=n_folds).split(X_train)\n",
    "\n",
    "\n",
    "# model = MultinomialNB()\n",
    "# gsearch_cv = GridSearchCV(estimator=model, param_grid=parameters, cv=cv_folds, scoring='f1')\n",
    "\n",
    "# gsearch_cv.fit(X_train, y_train)"
   ]
  },
  {
   "cell_type": "code",
   "execution_count": 52,
   "metadata": {},
   "outputs": [],
   "source": [
    "MNB_model = grid_search.best_estimator_\n",
    "\n",
    "#predict_MNB = MNB_model.predict(X_val)"
   ]
  },
  {
   "cell_type": "code",
   "execution_count": 53,
   "metadata": {},
   "outputs": [
    {
     "name": "stdout",
     "output_type": "stream",
     "text": [
      "Mean accuracy : 0.942\n",
      "ROC-AUC score : 0.970\n"
     ]
    },
    {
     "data": {
      "image/png": "[encoded data removed]",
      "text/plain": [
       "<Figure size 504x360 with 2 Axes>"
      ]
     },
     "metadata": {
      "needs_background": "light"
     },
     "output_type": "display_data"
    }
   ],
   "source": [
    "Score_Model(X_val, y_val, MNB_model)\n",
    "\n",
    "Print_ConfMatrix(X_val, y_val, MNB_model)"
   ]
  },
  {
   "cell_type": "code",
   "execution_count": 54,
   "metadata": {},
   "outputs": [
    {
     "data": {
      "text/plain": [
       "178295"
      ]
     },
     "execution_count": 54,
     "metadata": {},
     "output_type": "execute_result"
    }
   ],
   "source": [
    "len(MNB_model.named_steps.vect.get_feature_names())"
   ]
  },
  {
   "cell_type": "markdown",
   "metadata": {},
   "source": [
    "## Multinomial Naive Bayes classifier (lemmatized text)"
   ]
  },
  {
   "cell_type": "code",
   "execution_count": 55,
   "metadata": {},
   "outputs": [],
   "source": [
    "X_lemma = X_train_clean.apply(lambda x : lemmatize_pos(x, 'lemma'))  # Lemmatize cleaned text\n",
    "\n"
   ]
  },
  {
   "cell_type": "code",
   "execution_count": 56,
   "metadata": {},
   "outputs": [
    {
     "name": "stdout",
     "output_type": "stream",
     "text": [
      "Performing grid search...\n",
      "pipeline: ['vect', 'tfidf', 'clf']\n",
      "parameters:\n",
      "{'clf__alpha': (0.001, 0.01, 0.1, 0.5, 1, 2),\n",
      " 'vect__min_df': (5, 10, 15, 20),\n",
      " 'vect__ngram_range': ((1, 1), (1, 2), (1, 3))}\n",
      "Fitting 7 folds for each of 72 candidates, totalling 504 fits\n"
     ]
    },
    {
     "name": "stderr",
     "output_type": "stream",
     "text": [
      "[Parallel(n_jobs=4)]: Using backend LokyBackend with 4 concurrent workers.\n",
      "[Parallel(n_jobs=4)]: Done  42 tasks      | elapsed:  4.5min\n",
      "[Parallel(n_jobs=4)]: Done 192 tasks      | elapsed: 20.3min\n",
      "[Parallel(n_jobs=4)]: Done 442 tasks      | elapsed: 117.7min\n",
      "[Parallel(n_jobs=4)]: Done 504 out of 504 | elapsed: 124.5min finished\n"
     ]
    },
    {
     "name": "stdout",
     "output_type": "stream",
     "text": [
      "done in 7511.587s\n",
      "\n",
      "Best score: 0.944\n",
      "Best parameters set:\n",
      "\tclf__alpha: 0.1\n",
      "\tvect__min_df: 15\n",
      "\tvect__ngram_range: (1, 3)\n"
     ]
    }
   ],
   "source": [
    "if __name__ == \"__main__\":\n",
    "    # multiprocessing requires the fork to happen in a __main__ protected\n",
    "    # block\n",
    "\n",
    "    # find the best parameters for both the feature extraction and the\n",
    "    # classifier\n",
    "    grid_search = GridSearchCV(pipeline, parameters, cv=7, n_jobs=4, verbose=1)\n",
    "\n",
    "    print(\"Performing grid search...\")\n",
    "    print(\"pipeline:\", [name for name, _ in pipeline.steps])\n",
    "    print(\"parameters:\")\n",
    "    pprint(parameters)\n",
    "    t0 = time()\n",
    "    grid_search.fit(X_lemma, y_train)\n",
    "    print(\"done in %0.3fs\" % (time() - t0))\n",
    "    print()\n",
    "\n",
    "    print(\"Best score: %0.3f\" % grid_search.best_score_)\n",
    "    print(\"Best parameters set:\")\n",
    "    best_parameters = grid_search.best_estimator_.get_params()\n",
    "    for param_name in sorted(parameters.keys()):\n",
    "        print(\"\\t%s: %r\" % (param_name, best_parameters[param_name]))"
   ]
  },
  {
   "cell_type": "code",
   "execution_count": 57,
   "metadata": {
    "scrolled": true
   },
   "outputs": [],
   "source": [
    "# X_val_clean = X_val.apply(lambda x : cleanpunc(x))    # Remove punctuation and special characters \n",
    "X_val_lemma = X_val_clean.apply(lambda x : lemmatize_pos(x, 'lemma'))  # Lemmatize cleaned text\n"
   ]
  },
  {
   "cell_type": "code",
   "execution_count": 58,
   "metadata": {},
   "outputs": [
    {
     "name": "stdout",
     "output_type": "stream",
     "text": [
      "Mean accuracy : 0.945\n",
      "ROC-AUC score : 0.971\n"
     ]
    },
    {
     "data": {
      "image/png": "[encoded data removed]",
      "text/plain": [
       "<Figure size 504x360 with 2 Axes>"
      ]
     },
     "metadata": {
      "needs_background": "light"
     },
     "output_type": "display_data"
    }
   ],
   "source": [
    "MNB_lemma_model = grid_search.best_estimator_\n",
    "\n",
    "Score_Model(X_val_lemma, y_val, MNB_lemma_model)\n",
    "Print_ConfMatrix(X_val_lemma, y_val, MNB_lemma_model)"
   ]
  },
  {
   "cell_type": "code",
   "execution_count": 60,
   "metadata": {},
   "outputs": [
    {
     "data": {
      "text/plain": [
       "116955"
      ]
     },
     "execution_count": 60,
     "metadata": {},
     "output_type": "execute_result"
    }
   ],
   "source": [
    "len(MNB_lemma_model.named_steps.vect.get_feature_names())\n",
    "\n",
    "# MNB_lemma_model.named_steps.vect.get_feature_names()"
   ]
  },
  {
   "cell_type": "markdown",
   "metadata": {},
   "source": [
    "## SVM classifier (lemmatized text)"
   ]
  },
  {
   "cell_type": "code",
   "execution_count": null,
   "metadata": {},
   "outputs": [],
   "source": [
    "from sklearn.svm import SVC\n",
    "\n",
    "pipeline_svm = Pipeline([\n",
    "    ('vect', CountVectorizer()),\n",
    "    ('tfidf', TfidfTransformer()),\n",
    "    ('clf', SVC()),\n",
    "])\n",
    "\n",
    "parameters = {\n",
    "    'vect__min_df': (5, 10, 15),\n",
    "    # 'vect__max_features': (None, 5000, 10000, 50000),\n",
    "    'vect__ngram_range': ((1, 2), (1,3)),  # unigrams or bigrams or trigrams\n",
    "    # 'tfidf__use_idf': (True, False),\n",
    "    # 'tfidf__norm': ('l1', 'l2'),\n",
    "    # 'clf__max_iter': (20,),\n",
    "    'clf__C': (0.01, 0.1, 0.5, 1),\n",
    "    'clf__kernel':(\"linear\")\n",
    "    # 'clf__penalty': ('l2', 'elasticnet'),\n",
    "    # 'clf__max_iter': (10, 50, 80),\n",
    "}\n"
   ]
  },
  {
   "cell_type": "code",
   "execution_count": null,
   "metadata": {},
   "outputs": [],
   "source": []
  }
 ],
 "metadata": {
  "kernelspec": {
   "display_name": "Python 3",
   "language": "python",
   "name": "python3"
  },
  "language_info": {
   "codemirror_mode": {
    "name": "ipython",
    "version": 3
   },
   "file_extension": ".py",
   "mimetype": "text/x-python",
   "name": "python",
   "nbconvert_exporter": "python",
   "pygments_lexer": "ipython3",
   "version": "3.7.3"
  }
 },
 "nbformat": 4,
 "nbformat_minor": 2
}
