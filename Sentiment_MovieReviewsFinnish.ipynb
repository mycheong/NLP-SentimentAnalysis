{
 "cells": [
  {
   "cell_type": "markdown",
   "metadata": {},
   "source": [
    "# Sentiment analysis : Movies review text in Finnish\n"
   ]
  },
  {
   "cell_type": "markdown",
   "metadata": {},
   "source": [
    "## Data\n",
    "\n",
    "The data is obtained from leffatykki.com. "
   ]
  },
  {
   "cell_type": "code",
   "execution_count": 191,
   "metadata": {},
   "outputs": [
    {
     "name": "stdout",
     "output_type": "stream",
     "text": [
      "   Unnamed: 0  score                                               text  \\\n",
      "0           0   60.0  Scaramanga on kuuluisa palkkamurhaaja, jonka t...   \n",
      "1           1   60.0  Avauskohtaus heti ikonisen gunbarrelin jälkeen...   \n",
      "2           2   60.0  1973 valmistui kansan suosikki Bond Live And L...   \n",
      "3           3   90.0  Vuonna 1995 saatiin valmiiksi uusi Bond-elokuv...   \n",
      "4           4   90.0  Kuusi vuotta ehti kulua ja sinä aikana tapahtu...   \n",
      "\n",
      "                                               title  \n",
      "0   Parhaimmillaan kuitenkin oikein hyvää viihdettä.  \n",
      "1                        Kokonaisuus on epätasainen.  \n",
      "2  Toiminta on jonkun verran hakusessa, joka lask...  \n",
      "3  Kultainen silmä kuuluu parhaimpiin Bond-elokuv...  \n",
      "4                                         Hyvä Bond.  \n",
      "\n",
      "Original data dimension : (16605, 4)\n"
     ]
    }
   ],
   "source": [
    "import pandas as pd\n",
    "import numpy as np\n",
    "\n",
    "# Read in the data\n",
    "df1 = pd.read_csv('C:/Users/meiye/Courses/python_appliedTextMining/dataFiles/leffatykki_reviews_1.csv')\n",
    "df2 = pd.read_csv('C:/Users/meiye/Courses/python_appliedTextMining/dataFiles/leffatykki_reviews_2.csv')\n",
    "df3 = pd.read_csv('C:/Users/meiye/Courses/python_appliedTextMining/dataFiles/leffatykki_reviews_3.csv')\n",
    "df4 = pd.read_csv('C:/Users/meiye/Courses/python_appliedTextMining/dataFiles/leffatykki_reviews_4.csv')\n",
    "df5 = pd.read_csv('C:/Users/meiye/Courses/python_appliedTextMining/dataFiles/leffatykki_reviews_5.csv')\n",
    "df6 = pd.read_csv('C:/Users/meiye/Courses/python_appliedTextMining/dataFiles/leffatykki_reviews_6.csv')\n",
    "\n",
    "\n",
    "df = pd.concat([df1, df2, df3, df4, df5, df6])\n",
    "\n",
    "print(df.head())\n",
    "\n",
    "print('\\nOriginal data dimension : {}'.format(df.shape))"
   ]
  },
  {
   "cell_type": "code",
   "execution_count": 181,
   "metadata": {},
   "outputs": [
    {
     "data": {
      "text/plain": [
       "<matplotlib.axes._subplots.AxesSubplot at 0x2859d9dc9e8>"
      ]
     },
     "execution_count": 181,
     "metadata": {},
     "output_type": "execute_result"
    },
    {
     "data": {
      "image/png": "[encoded data removed]",
      "text/plain": [
       "<Figure size 432x288 with 1 Axes>"
      ]
     },
     "metadata": {
      "needs_background": "light"
     },
     "output_type": "display_data"
    }
   ],
   "source": [
    "df['score'].plot.hist()\n"
   ]
  },
  {
   "cell_type": "markdown",
   "metadata": {},
   "source": [
    "### Data preparation\n",
    "\n",
    "1. Shuffle the rows of read in data.\n",
    "2. Set score scale to (1 - 10). Original data has scale (10 - 100).\n",
    "3. Drop rows that has empty review text.\n",
    "4. Define binary sentiment classes (1 for positive; 0 for negative) based on score (1 - 3 as negative, 8 - 10 as positive, drop rows with score 4 - 7). From the histogram above, we can see we will have unbalanced data for the classes.\n"
   ]
  },
  {
   "cell_type": "code",
   "execution_count": 197,
   "metadata": {},
   "outputs": [
    {
     "name": "stdout",
     "output_type": "stream",
     "text": [
      "   Unnamed: 0  score                                               text  \\\n",
      "1        1197   10.0  Katumus alkaa kohtauksella pienessä georgialai...   \n",
      "2          80    8.0  Mike Enslin (John Cusack) on kirjailija. Hän k...   \n",
      "5        2174    3.0  Mietiskelin jo ennen elokuvan alkua, että olis...   \n",
      "6         101    9.0  \"Let's just say that I want to believe\"Pitkään...   \n",
      "7        3799    9.0  Planet Terror on toinen puolikas Tarantinon ja...   \n",
      "\n",
      "                                               title  Positively Rated  \n",
      "1  Hämmästyttävän suora ja häpeilemätön satiiri e...                 1  \n",
      "2           Tässä kauhuleffassa on mukana mysteeriä.                 1  \n",
      "5                                      Turha tekele.                 0  \n",
      "6  Lähes täydellinen X-Files tulkinta ja yksi vuo...                 1  \n",
      "7           Filmi on alusta asti visuaalista riemua.                 1  \n",
      "\n",
      "Dimension of the data after pre-processing : (9365, 5)\n"
     ]
    }
   ],
   "source": [
    "# shuffle df rows\n",
    "df = df.sample(frac=1).reset_index(drop=True)\n",
    "\n",
    "# set score to scale 1--10\n",
    "df['score']=df['score']/10\n",
    "\n",
    "# drop rows with NaN review text\n",
    "df = df[df['text'].notna()]\n",
    "\n",
    "# Remove 'neutral' ratings (score 4 -7)\n",
    "df = df[(df['score'] < 4)|(df['score'] > 7) ]\n",
    "\n",
    "# Encode 8, 9, 10 as 1 (Positive)\n",
    "# Encode 1, 2, 3 as 0 (Negative)\n",
    "df['Positively Rated'] = np.where(df['score'] > 7, 1, 0)\n",
    "\n",
    "print(df.head())\n",
    "\n",
    "print('\\nDimension of the data after pre-processing : {}'.format(df.shape))"
   ]
  },
  {
   "cell_type": "code",
   "execution_count": 202,
   "metadata": {},
   "outputs": [
    {
     "name": "stdout",
     "output_type": "stream",
     "text": [
      "Proportion of data with positive rating (class 1) : 85.32%\n"
     ]
    }
   ],
   "source": [
    "# Check portion of class 1\n",
    "print('Proportion of data with positive rating (class 1) : {}%'.format(round(df['Positively Rated'].mean()*100,2)))\n"
   ]
  },
  {
   "cell_type": "markdown",
   "metadata": {},
   "source": [
    "## Split data into training and test sets"
   ]
  },
  {
   "cell_type": "code",
   "execution_count": 7,
   "metadata": {},
   "outputs": [],
   "source": [
    "from sklearn.model_selection import train_test_split\n",
    "\n",
    "# Split data into training and test sets\n",
    "X_train, X_test, y_train, y_test = train_test_split(df['text'], \n",
    "                                                    df['Positively Rated'], \n",
    "                                                    random_state=7,\n",
    "                                                    test_size=0.25)"
   ]
  },
  {
   "cell_type": "markdown",
   "metadata": {},
   "source": [
    "## Logistic regression\n",
    "\n",
    "Here we tranform the review text to word count vector representation and then generate tfidf matrix and fit to a logistic regression model.  "
   ]
  },
  {
   "cell_type": "code",
   "execution_count": 329,
   "metadata": {},
   "outputs": [
    {
     "name": "stderr",
     "output_type": "stream",
     "text": [
      "C:\\Users\\meiye\\Anaconda3\\lib\\site-packages\\sklearn\\linear_model\\logistic.py:432: FutureWarning: Default solver will be changed to 'lbfgs' in 0.22. Specify a solver to silence this warning.\n",
      "  FutureWarning)\n"
     ]
    },
    {
     "data": {
      "text/plain": [
       "Pipeline(memory=None,\n",
       "         steps=[('vect',\n",
       "                 CountVectorizer(analyzer='word', binary=False,\n",
       "                                 decode_error='strict',\n",
       "                                 dtype=<class 'numpy.int64'>, encoding='utf-8',\n",
       "                                 input='content', lowercase=True, max_df=1.0,\n",
       "                                 max_features=None, min_df=10,\n",
       "                                 ngram_range=(1, 2), preprocessor=None,\n",
       "                                 stop_words=None, strip_accents=None,\n",
       "                                 token_pattern='(?u)\\\\b\\\\w\\\\w+\\\\b',\n",
       "                                 tokenizer=None, vocabulary=No...\n",
       "                ('tfidf',\n",
       "                 TfidfTransformer(norm='l2', smooth_idf=True,\n",
       "                                  sublinear_tf=False, use_idf=True)),\n",
       "                ('clf',\n",
       "                 LogisticRegression(C=0.6, class_weight='balanced', dual=False,\n",
       "                                    fit_intercept=True, intercept_scaling=1,\n",
       "                                    l1_ratio=None, max_iter=100,\n",
       "                                    multi_class='warn', n_jobs=None,\n",
       "                                    penalty='l2', random_state=None,\n",
       "                                    solver='warn', tol=0.0001, verbose=0,\n",
       "                                    warm_start=False))],\n",
       "         verbose=False)"
      ]
     },
     "execution_count": 329,
     "metadata": {},
     "output_type": "execute_result"
    }
   ],
   "source": [
    "from sklearn.linear_model import LogisticRegression\n",
    "from sklearn.pipeline import Pipeline\n",
    "from sklearn.feature_extraction.text import CountVectorizer\n",
    "from sklearn.feature_extraction.text import TfidfTransformer\n",
    "\n",
    "model_logreg = Pipeline([('vect', CountVectorizer(ngram_range=(1,2), min_df = 10)),\n",
    "                     ('tfidf', TfidfTransformer()),\n",
    "                     ('clf', LogisticRegression(C=0.6, class_weight='balanced')),\n",
    "                    ]) \n",
    "model_logreg.fit(X_train, y_train)\n"
   ]
  },
  {
   "cell_type": "code",
   "execution_count": 330,
   "metadata": {},
   "outputs": [
    {
     "name": "stdout",
     "output_type": "stream",
     "text": [
      "AUC:  0.9505154948150812\n"
     ]
    },
    {
     "data": {
      "image/png": "[encoded data removed]",
      "text/plain": [
       "<Figure size 504x360 with 2 Axes>"
      ]
     },
     "metadata": {
      "needs_background": "light"
     },
     "output_type": "display_data"
    }
   ],
   "source": [
    "## Prediction\n",
    "predictions = model_logreg.predict(X_test)\n",
    "prediction_prob = model_logreg.predict_proba(X_test)\n",
    "\n",
    "## Evaluate ROC-AUC score\n",
    "print('AUC: ', roc_auc_score(y_test, prediction_prob[:,1]))\n",
    "\n",
    "\n",
    "from sklearn.metrics import confusion_matrix\n",
    "import matplotlib.pyplot as plt\n",
    "import seaborn as sns\n",
    "\n",
    "\n",
    "## generate and print confusion matrix\n",
    "#\n",
    "cm = confusion_matrix(y_test, predictions)\n",
    "# Normalise\n",
    "cmn = cm.astype('float') / cm.sum(axis=1)[:, np.newaxis]\n",
    "fig, ax = plt.subplots(figsize=(7,5))\n",
    "sns.heatmap(cmn, annot=True, fmt='.2f', xticklabels=[\"0\",\"1\"], yticklabels=[\"0\",\"1\"])\n",
    "plt.ylabel('Actual')\n",
    "plt.xlabel('Predicted')\n",
    "plt.show(block=False)"
   ]
  },
  {
   "cell_type": "code",
   "execution_count": 331,
   "metadata": {
    "scrolled": true
   },
   "outputs": [
    {
     "name": "stdout",
     "output_type": "stream",
     "text": [
      "Smallest Coefs:\n",
      "['edes' 'sitten' 'huono' 'mitään' 'ei' 'surkea' 'olisi' 'että'\n",
      " 'ilmeisesti' 'juoni' 'ihan' 'oikein' 'vain' 'jos' 'valitettavasti'\n",
      " 'tylsä' 'miksi' 'yritetään' 'lähinnä' 'sentään']\n",
      "\n",
      "Largest Coefs: \n",
      "['ja' 'myös' 'hyvin' 'hän' 'hieman' 'loistava' 'tekee' 'sekä' 'paras'\n",
      " 'toimii' 'elokuva' 'on' 'kaikille' 'joka' 'silti' 'loistavasti'\n",
      " 'hienosti' 'hänen' 'mies' 'nimimerkki']\n"
     ]
    }
   ],
   "source": [
    "logreg_vect = model_logreg.get_params()['vect']\n",
    "logreg_clf = model_logreg.get_params()['clf']\n",
    "\n",
    "# get the feature names as numpy array\n",
    "feature_names = np.array(logreg_vect.get_feature_names())\n",
    "\n",
    "# Sort the coefficients from the model\n",
    "sorted_coef_index = logreg_clf.coef_[0].argsort()\n",
    "\n",
    "# Find the 20 smallest and 10 largest coefficients\n",
    "# The 20 largest coefficients are being indexed using [:-11:-1] \n",
    "# so the list returned is in order of largest to smallest\n",
    "print('Smallest Coefs:\\n{}\\n'.format(feature_names[sorted_coef_index[:20]]))\n",
    "print('Largest Coefs: \\n{}'.format(feature_names[sorted_coef_index[:-21:-1]]))"
   ]
  },
  {
   "cell_type": "markdown",
   "metadata": {},
   "source": [
    "# Stoplist generation using mutual information based feature selection\n",
    "\n",
    "Instead of using standard stopwords list, mutual information based feature selection method is used here to select poor class discriminating variables as stoplist."
   ]
  },
  {
   "cell_type": "code",
   "execution_count": 255,
   "metadata": {},
   "outputs": [
    {
     "data": {
      "text/plain": [
       "249040"
      ]
     },
     "execution_count": 255,
     "metadata": {},
     "output_type": "execute_result"
    }
   ],
   "source": [
    "# Fit the CountVectorizer to the training data\n",
    "vectX_train = CountVectorizer().fit(X_train)\n",
    "\n",
    "len(vectX_train.get_feature_names())"
   ]
  },
  {
   "cell_type": "code",
   "execution_count": 258,
   "metadata": {},
   "outputs": [
    {
     "data": {
      "text/plain": [
       "<7023x249040 sparse matrix of type '<class 'numpy.int64'>'\n",
       "\twith 1701312 stored elements in Compressed Sparse Row format>"
      ]
     },
     "execution_count": 258,
     "metadata": {},
     "output_type": "execute_result"
    }
   ],
   "source": [
    "# transform the documents in the training data to a document-term matrix\n",
    "X_train_vectorized = vectX_train.transform(X_train)\n",
    "\n",
    "X_train_vectorized"
   ]
  },
  {
   "cell_type": "code",
   "execution_count": 259,
   "metadata": {},
   "outputs": [],
   "source": [
    "from sklearn.feature_selection import mutual_info_classif as mi_classif\n",
    "\n",
    "mi = mi_classif(X_train_vectorized, y_train)\n"
   ]
  },
  {
   "cell_type": "code",
   "execution_count": 261,
   "metadata": {},
   "outputs": [
    {
     "name": "stdout",
     "output_type": "stream",
     "text": [
      "Head :         feature        mi\n",
      "24788     edes  0.033561\n",
      "50423    huono  0.019469\n",
      "129100    myös  0.019329\n",
      "187969  sitten  0.016349\n",
      "123242  mitään  0.015579 \n",
      "Tail :             feature            mi\n",
      "142728    oscareita  2.021906e-09\n",
      "125375       muisto  2.021906e-09\n",
      "66650   jännittäviä  2.021906e-09\n",
      "214988     tulemaan  2.021906e-09\n",
      "162939     pysähtyy  2.021906e-09\n"
     ]
    }
   ],
   "source": [
    "mi_df = pd.Series(mi)\n",
    "\n",
    "fea_df=pd.Series(vect.get_feature_names())\n",
    "\n",
    "fea_mi_df = pd.concat([fea_df, mi_df], axis=1, ignore_index=True)\n",
    "fea_mi_df.columns=['feature', 'mi']\n",
    "fea_mi_sorted= fea_mi_df.sort_values(by=['mi'], ascending=False)\n",
    "\n",
    "print( 'Head : ', fea_mi_sorted.head(), '\\nTail :', fea_mi_sorted.tail())"
   ]
  },
  {
   "cell_type": "code",
   "execution_count": 338,
   "metadata": {},
   "outputs": [
    {
     "data": {
      "text/plain": [
       "<matplotlib.axes._subplots.AxesSubplot at 0x2867a100128>"
      ]
     },
     "execution_count": 338,
     "metadata": {},
     "output_type": "execute_result"
    },
    {
     "data": {
      "image/png": "[encoded data removed]",
      "text/plain": [
       "<Figure size 432x288 with 1 Axes>"
      ]
     },
     "metadata": {
      "needs_background": "light"
     },
     "output_type": "display_data"
    }
   ],
   "source": [
    "len(fea_mi_sorted[fea_mi_sorted.mi<1e-5])\n",
    "\n",
    "np.log10(fea_mi_sorted['mi']).hist(bins=50)"
   ]
  },
  {
   "cell_type": "code",
   "execution_count": 280,
   "metadata": {
    "scrolled": false
   },
   "outputs": [],
   "source": [
    "stoplist_len = len(fea_mi_sorted[fea_mi_sorted.mi<1e-5])\n",
    "\n",
    "stoplist=list(fea_mi_sorted.feature[-stoplist_len:-1])"
   ]
  },
  {
   "cell_type": "markdown",
   "metadata": {},
   "source": [
    "### Re-train logistic regression classifier with words in stoplist as stopwords"
   ]
  },
  {
   "cell_type": "code",
   "execution_count": 281,
   "metadata": {},
   "outputs": [
    {
     "name": "stderr",
     "output_type": "stream",
     "text": [
      "C:\\Users\\meiye\\Anaconda3\\lib\\site-packages\\sklearn\\linear_model\\logistic.py:432: FutureWarning: Default solver will be changed to 'lbfgs' in 0.22. Specify a solver to silence this warning.\n",
      "  FutureWarning)\n"
     ]
    },
    {
     "data": {
      "text/plain": [
       "Pipeline(memory=None,\n",
       "         steps=[('vect',\n",
       "                 CountVectorizer(analyzer='word', binary=False,\n",
       "                                 decode_error='strict',\n",
       "                                 dtype=<class 'numpy.int64'>, encoding='utf-8',\n",
       "                                 input='content', lowercase=True, max_df=1.0,\n",
       "                                 max_features=None, min_df=10,\n",
       "                                 ngram_range=(1, 2), preprocessor=None,\n",
       "                                 stop_words=['rauhaan', 'leffana', 'perustuvat',\n",
       "                                             'aamulla', 'kohtauksella',\n",
       "                                             'leikki', 'summa', 'tarinoita...\n",
       "                ('tfidf',\n",
       "                 TfidfTransformer(norm='l2', smooth_idf=True,\n",
       "                                  sublinear_tf=False, use_idf=True)),\n",
       "                ('clf',\n",
       "                 LogisticRegression(C=0.6, class_weight='balanced', dual=False,\n",
       "                                    fit_intercept=True, intercept_scaling=1,\n",
       "                                    l1_ratio=None, max_iter=100,\n",
       "                                    multi_class='warn', n_jobs=None,\n",
       "                                    penalty='l2', random_state=None,\n",
       "                                    solver='warn', tol=0.0001, verbose=0,\n",
       "                                    warm_start=False))],\n",
       "         verbose=False)"
      ]
     },
     "execution_count": 281,
     "metadata": {},
     "output_type": "execute_result"
    }
   ],
   "source": [
    "model_logreg_stw = Pipeline([('vect', CountVectorizer(ngram_range=(1,2), min_df = 10, stop_words=stoplist)),\n",
    "                     ('tfidf', TfidfTransformer()),\n",
    "                     ('clf', LogisticRegression(C=0.6, class_weight='balanced')),\n",
    "                    ]) \n",
    "model_logreg_stw.fit(X_train, y_train)\n"
   ]
  },
  {
   "cell_type": "code",
   "execution_count": 282,
   "metadata": {},
   "outputs": [
    {
     "name": "stdout",
     "output_type": "stream",
     "text": [
      "AUC:  0.950466043277588\n"
     ]
    },
    {
     "data": {
      "image/png": "[encoded data removed]",
      "text/plain": [
       "<Figure size 504x360 with 2 Axes>"
      ]
     },
     "metadata": {
      "needs_background": "light"
     },
     "output_type": "display_data"
    }
   ],
   "source": [
    "## Prediction\n",
    "predictions_stw = model_logreg_stw.predict(X_test)\n",
    "prediction_prob_stw = model_logreg_stw.predict_proba(X_test)\n",
    "\n",
    "## Evaluate ROC-AUC score\n",
    "print('AUC: ', roc_auc_score(y_test, prediction_prob_stw[:,1]))\n",
    "\n",
    "\n",
    "## generate and print confusion matrix\n",
    "#\n",
    "cm = confusion_matrix(y_test, predictions_stw)\n",
    "# Normalise\n",
    "cmn = cm.astype('float') / cm.sum(axis=1)[:, np.newaxis]\n",
    "fig, ax = plt.subplots(figsize=(7,5))\n",
    "sns.heatmap(cmn, annot=True, fmt='.2f', xticklabels=[\"0\",\"1\"], yticklabels=[\"0\",\"1\"])\n",
    "plt.ylabel('Actual')\n",
    "plt.xlabel('Predicted')\n",
    "plt.show(block=False)"
   ]
  },
  {
   "cell_type": "markdown",
   "metadata": {},
   "source": [
    "# Naive Bayes"
   ]
  },
  {
   "cell_type": "markdown",
   "metadata": {},
   "source": [
    "## Multinomial Naive Bayes"
   ]
  },
  {
   "cell_type": "code",
   "execution_count": 292,
   "metadata": {},
   "outputs": [
    {
     "data": {
      "text/plain": [
       "Pipeline(memory=None,\n",
       "         steps=[('vect',\n",
       "                 CountVectorizer(analyzer='word', binary=False,\n",
       "                                 decode_error='strict',\n",
       "                                 dtype=<class 'numpy.int64'>, encoding='utf-8',\n",
       "                                 input='content', lowercase=True, max_df=1.0,\n",
       "                                 max_features=None, min_df=10,\n",
       "                                 ngram_range=(1, 2), preprocessor=None,\n",
       "                                 stop_words=['rauhaan', 'leffana', 'perustuvat',\n",
       "                                             'aamulla', 'kohtauksella',\n",
       "                                             'leikki', 'summa', 'tarinoita...\n",
       "                                             'annettiin', 'senkun',\n",
       "                                             'kakkoseksi', 'tarkoitti',\n",
       "                                             'kuuloinen', 'läheiset',\n",
       "                                             'osanneet', 'lyhyet',\n",
       "                                             'kaupungilla', 'lyhyeen',\n",
       "                                             'takuuvarma', 'vertaus',\n",
       "                                             'eräänlaista', 'keskittyykin',\n",
       "                                             'ohjauskin', 'takaisen', 'hilpeän', ...],\n",
       "                                 strip_accents=None,\n",
       "                                 token_pattern='(?u)\\\\b\\\\w\\\\w+\\\\b',\n",
       "                                 tokenizer=None, vocabulary=None)),\n",
       "                ('clf',\n",
       "                 MultinomialNB(alpha=1.0, class_prior=None, fit_prior=True))],\n",
       "         verbose=False)"
      ]
     },
     "execution_count": 292,
     "metadata": {},
     "output_type": "execute_result"
    }
   ],
   "source": [
    "from sklearn import naive_bayes\n",
    "from sklearn.pipeline import Pipeline\n",
    "from sklearn.feature_extraction.text import TfidfTransformer\n",
    "\n",
    "model_MNB = Pipeline([('vect', CountVectorizer(ngram_range=(1,2), min_df = 10, stop_words=stoplist)),\n",
    "                     #('tfidf', TfidfTransformer()),\n",
    "                     ('clf', naive_bayes.MultinomialNB()),\n",
    "                    ]) \n",
    "model_MNB.fit(X_train, y_train)"
   ]
  },
  {
   "cell_type": "code",
   "execution_count": 303,
   "metadata": {},
   "outputs": [
    {
     "name": "stdout",
     "output_type": "stream",
     "text": [
      "Multinomial NB classifier, AUC:  0.9638659114068212\n"
     ]
    },
    {
     "data": {
      "image/png": "[encoded data removed]",
      "text/plain": [
       "<Figure size 504x360 with 2 Axes>"
      ]
     },
     "metadata": {
      "needs_background": "light"
     },
     "output_type": "display_data"
    }
   ],
   "source": [
    "# from sklearn.metrics import roc_auc_score\n",
    "\n",
    "predictions_MNB = model_MNB.predict(X_test)\n",
    "prediction_proba_MNB = model_MNB.predict_proba(X_test)\n",
    "\n",
    "print('Multinomial NB classifier, AUC: ', roc_auc_score(y_test, prediction_proba_MNB[:,1]))\n",
    "\n",
    "## generate and print confusion matrix\n",
    "#\n",
    "cm = confusion_matrix(y_test, predictions_MNB)\n",
    "# Normalise\n",
    "cmn = cm.astype('float') / cm.sum(axis=1)[:, np.newaxis]\n",
    "fig, ax = plt.subplots(figsize=(7,5))\n",
    "sns.heatmap(cmn, annot=True, fmt='.2f', xticklabels=[\"0\",\"1\"], yticklabels=[\"0\",\"1\"])\n",
    "plt.ylabel('Actual')\n",
    "plt.xlabel('Predicted')\n",
    "plt.show(block=False)"
   ]
  },
  {
   "cell_type": "code",
   "execution_count": 291,
   "metadata": {},
   "outputs": [
    {
     "data": {
      "text/plain": [
       "array([0])"
      ]
     },
     "execution_count": 291,
     "metadata": {},
     "output_type": "execute_result"
    }
   ],
   "source": [
    "predict = model_MNB.predict(['tosi surkea'])\n",
    "predict\n",
    "\n"
   ]
  },
  {
   "cell_type": "markdown",
   "metadata": {},
   "source": [
    "## Complement Naive bayes"
   ]
  },
  {
   "cell_type": "code",
   "execution_count": 344,
   "metadata": {},
   "outputs": [
    {
     "data": {
      "text/plain": [
       "Pipeline(memory=None,\n",
       "         steps=[('vect',\n",
       "                 CountVectorizer(analyzer='word', binary=False,\n",
       "                                 decode_error='strict',\n",
       "                                 dtype=<class 'numpy.int64'>, encoding='utf-8',\n",
       "                                 input='content', lowercase=True, max_df=1.0,\n",
       "                                 max_features=None, min_df=10,\n",
       "                                 ngram_range=(1, 2), preprocessor=None,\n",
       "                                 stop_words=['paikallisessa', 'nenän',\n",
       "                                             'valitut', 'olematta', 'pyritään',\n",
       "                                             'juonenkäänteiden', 'onkohan',...\n",
       "                                             'spoilerivaroitus', 'mitkään',\n",
       "                                             'kontrastia', 'syvällisesti',\n",
       "                                             'pulassa', 'jälkimmäistä',\n",
       "                                             'edellisiin', 'luominen', 'puuhaa',\n",
       "                                             'syvällisiä', 'hupaisan',\n",
       "                                             'jännittävää', 'eräästä',\n",
       "                                             'suurimpia', ...],\n",
       "                                 strip_accents=None,\n",
       "                                 token_pattern='(?u)\\\\b\\\\w\\\\w+\\\\b',\n",
       "                                 tokenizer=None, vocabulary=None)),\n",
       "                ('clf',\n",
       "                 ComplementNB(alpha=1, class_prior=None, fit_prior=True,\n",
       "                              norm=False))],\n",
       "         verbose=False)"
      ]
     },
     "execution_count": 344,
     "metadata": {},
     "output_type": "execute_result"
    }
   ],
   "source": [
    "model_CNB = Pipeline([('vect', CountVectorizer(ngram_range=(1,2), min_df = 10, stop_words=stoplist[-1300:-1])),\n",
    "#                      ('tfidf', TfidfTransformer()),\n",
    "                     ('clf', naive_bayes.ComplementNB(alpha=1)),\n",
    "                    ]) \n",
    "model_CNB.fit(X_train, y_train)"
   ]
  },
  {
   "cell_type": "code",
   "execution_count": 345,
   "metadata": {},
   "outputs": [
    {
     "name": "stdout",
     "output_type": "stream",
     "text": [
      "AUC:  0.9649988011748488\n"
     ]
    }
   ],
   "source": [
    "\n",
    "prediction_proba_CNB = model_CNB.predict_proba(X_test)\n",
    "\n",
    "print('AUC: ', roc_auc_score(y_test, prediction_proba_CNB[:,1]))\n",
    "\n",
    "# predictions\n"
   ]
  },
  {
   "cell_type": "code",
   "execution_count": 346,
   "metadata": {},
   "outputs": [
    {
     "data": {
      "image/png": "[encoded data removed]",
      "text/plain": [
       "<Figure size 504x360 with 2 Axes>"
      ]
     },
     "metadata": {
      "needs_background": "light"
     },
     "output_type": "display_data"
    }
   ],
   "source": [
    "predictions_CNB = model_CNB.predict(X_test)\n",
    "\n",
    "cm = confusion_matrix(y_test, predictions_CNB)\n",
    "# Normalise\n",
    "cmn = cm.astype('float') / cm.sum(axis=1)[:, np.newaxis]\n",
    "fig, ax = plt.subplots(figsize=(7,5))\n",
    "sns.heatmap(cmn, annot=True, fmt='.2f', xticklabels=[\"0\",\"1\"], yticklabels=[\"0\",\"1\"])\n",
    "plt.ylabel('Actual')\n",
    "plt.xlabel('Predicted')\n",
    "plt.show(block=False)"
   ]
  },
  {
   "cell_type": "markdown",
   "metadata": {},
   "source": [
    "## Analyze features"
   ]
  },
  {
   "cell_type": "code",
   "execution_count": 160,
   "metadata": {},
   "outputs": [],
   "source": [
    "mdl=model_NB.get_params()['clf']\n",
    "vectorizer=model_NB.get_params()['vect']"
   ]
  },
  {
   "cell_type": "code",
   "execution_count": 161,
   "metadata": {},
   "outputs": [
    {
     "name": "stdout",
     "output_type": "stream",
     "text": [
      "\t-13.5279\tsurkein        \t\t-3.0488\tja             \n",
      "\t-13.1224\thohhoijaa      \t\t-3.2255\ton             \n",
      "\t-13.1224\thuonous        \t\t-4.3098\tei             \n",
      "\t-13.1224\tmukiinmenevää  \t\t-4.5947\tmutta          \n",
      "\t-13.1224\tolevinaan      \t\t-4.9255\tjoka           \n",
      "\t-13.1224\tpohjanoteeraus \t\t-4.9610\tse             \n",
      "\t-13.1224\trandom         \t\t-5.0317\tettä           \n",
      "\t-13.1224\tsurkeampi      \t\t-5.0816\tmyös           \n",
      "\t-13.1224\tviitsitty      \t\t-5.1892\telokuva        \n",
      "\t-12.8347\tgeneeristä     \t\t-5.1995\tkuin           \n",
      "\t-12.8347\thanurista      \t\t-5.2240\tole            \n",
      "\t-12.8347\thuonoudellaan  \t\t-5.2430\tovat           \n",
      "\t-12.8347\thuonoudessaan  \t\t-5.2623\telokuvan       \n",
      "\t-12.8347\thävettää       \t\t-5.4442\thän            \n",
      "\t-12.8347\tkakkaa         \t\t-5.4657\tniin           \n",
      "\t-12.8347\tkatsoisin      \t\t-5.5035\tkun            \n",
      "\t-12.8347\tkohellus       \t\t-5.5242\tsen            \n",
      "\t-12.8347\tmaineella      \t\t-5.7042\ttämä           \n",
      "\t-12.8347\tmielikuvitukseton\t\t-5.7320\toli            \n",
      "\t-12.8347\tpitkästyttävä  \t\t-5.8036\thyvin          \n",
      "\t-12.8347\träpellys       \t\t-5.8784\tvain           \n",
      "\t-12.8347\tsurkeaan       \t\t-5.9405\tvaikka         \n",
      "\t-12.8347\tsurkeasta      \t\t-5.9459\tjo             \n",
      "\t-12.8347\tsurkeutta      \t\t-5.9714\ttai            \n",
      "\t-12.8347\ttahaton        \t\t-5.9793\tkuitenkin      \n",
      "\t-12.8347\ttuubaa         \t\t-5.9793\thänen          \n",
      "\t-12.8347\ttönkköjä       \t\t-5.9896\tvoi            \n",
      "\t-12.8347\tuwe            \t\t-6.0109\ttämän          \n",
      "\t-12.8347\tviihdytä       \t\t-6.0901\tthe            \n",
      "\t-12.6116\tajanhukkaa     \t\t-6.0924\teikä           \n"
     ]
    }
   ],
   "source": [
    "def show_most_informative_features(vectorizer, clf, n=30):\n",
    "    feature_names = vectorizer.get_feature_names()\n",
    "    coefs_with_fns = sorted(zip(clf.coef_[0], feature_names))\n",
    "    top = zip(coefs_with_fns[:n], coefs_with_fns[:-(n + 1):-1])\n",
    "    for (coef_1, fn_1), (coef_2, fn_2) in top:\n",
    "        print(\"\\t%.4f\\t%-15s\\t\\t%.4f\\t%-15s\" % (coef_1, fn_1, coef_2, fn_2))\n",
    "        \n",
    "show_most_informative_features(vectorizer, mdl)"
   ]
  },
  {
   "cell_type": "code",
   "execution_count": 162,
   "metadata": {},
   "outputs": [
    {
     "name": "stdout",
     "output_type": "stream",
     "text": [
      "\t3.5285\tja             \t\t12.7280\täärimmäisyyksiin\n",
      "\t3.5997\ton             \t\t12.7280\täärimmäisen viihdyttävä\n",
      "\t4.3478\tei             \t\t12.7280\täärimmäisellä  \n",
      "\t4.8802\tmutta          \t\t12.7280\tääniä ja       \n",
      "\t4.9852\tettä           \t\t12.7280\tääniraita on   \n",
      "\t5.1437\tse             \t\t12.7280\täänimaailman   \n",
      "\t5.3341\tole            \t\t12.7280\täänielokuvan   \n",
      "\t5.4108\tkuin           \t\t12.7280\tääni ei        \n",
      "\t5.4141\tniin           \t\t12.7280\täänenlaatu     \n",
      "\t5.4549\telokuvan       \t\t12.7280\täänekäs        \n",
      "\t5.4619\tjoka           \t\t12.7280\tälykkäin       \n",
      "\t5.5231\tovat           \t\t12.7280\täkkipikainen   \n",
      "\t5.5876\tkun            \t\t12.7280\täitiinsä       \n",
      "\t5.6624\telokuva        \t\t12.7280\täidilleen      \n",
      "\t5.7277\ttämä           \t\t12.7280\tzimmer         \n",
      "\t5.7470\toli            \t\t12.7280\tzemeckis       \n",
      "\t5.7573\tvain           \t\t12.7280\tzach           \n",
      "\t5.7801\tsen            \t\t12.7280\työnsä          \n",
      "\t5.9058\tsitten         \t\t12.7280\työn ritarin    \n",
      "\t5.9402\ttai            \t\t12.7280\työn ritari     \n",
      "\t5.9676\tmitään         \t\t12.7280\työn aikana     \n",
      "\t5.9711\tjo             \t\t12.7280\työksi          \n",
      "\t6.0126\tvoi            \t\t12.7280\työ ja          \n",
      "\t6.0187\ttämän          \t\t12.7280\tytimessä       \n",
      "\t6.0260\tolisi          \t\t12.7280\tytimeen        \n",
      "\t6.0334\tmyös           \t\t12.7280\tystävällisen   \n",
      "\t6.1160\tedes           \t\t12.7280\tystävä on      \n",
      "\t6.1227\tei ole         \t\t12.7280\tystävyyssuhde  \n",
      "\t6.1309\tkoko           \t\t12.7280\tystäviä ja     \n",
      "\t6.1363\ttässä          \t\t12.7280\tystäville nimimerkki\n"
     ]
    }
   ],
   "source": [
    "mdl1=model_CNB.get_params()['clf']\n",
    "vectorizer1=model_CNB.get_params()['vect']\n",
    "show_most_informative_features(vectorizer1, mdl1)"
   ]
  }
 ],
 "metadata": {
  "kernelspec": {
   "display_name": "Python 3",
   "language": "python",
   "name": "python3"
  },
  "language_info": {
   "codemirror_mode": {
    "name": "ipython",
    "version": 3
   },
   "file_extension": ".py",
   "mimetype": "text/x-python",
   "name": "python",
   "nbconvert_exporter": "python",
   "pygments_lexer": "ipython3",
   "version": "3.7.3"
  }
 },
 "nbformat": 4,
 "nbformat_minor": 2
}
