{
 "cells": [
  {
   "cell_type": "markdown",
   "metadata": {},
   "source": [
    "# Sentiment analysis : Movies review text in Finnish\n"
   ]
  },
  {
   "cell_type": "markdown",
   "metadata": {},
   "source": [
    "## Data\n",
    "\n",
    "The data is obtained from leffatykki.com. "
   ]
  },
  {
   "cell_type": "code",
   "execution_count": 1,
   "metadata": {},
   "outputs": [
    {
     "name": "stdout",
     "output_type": "stream",
     "text": [
      "   Unnamed: 0  score                                               text  \\\n",
      "0           0   60.0  Scaramanga on kuuluisa palkkamurhaaja, jonka t...   \n",
      "1           1   60.0  Avauskohtaus heti ikonisen gunbarrelin jälkeen...   \n",
      "2           2   60.0  1973 valmistui kansan suosikki Bond Live And L...   \n",
      "3           3   90.0  Vuonna 1995 saatiin valmiiksi uusi Bond-elokuv...   \n",
      "4           4   90.0  Kuusi vuotta ehti kulua ja sinä aikana tapahtu...   \n",
      "\n",
      "                                               title  \n",
      "0   Parhaimmillaan kuitenkin oikein hyvää viihdettä.  \n",
      "1                        Kokonaisuus on epätasainen.  \n",
      "2  Toiminta on jonkun verran hakusessa, joka lask...  \n",
      "3  Kultainen silmä kuuluu parhaimpiin Bond-elokuv...  \n",
      "4                                         Hyvä Bond.  \n",
      "\n",
      "Original data dimension : (16605, 4)\n"
     ]
    }
   ],
   "source": [
    "import pandas as pd\n",
    "import numpy as np\n",
    "\n",
    "# Read in the data\n",
    "df1 = pd.read_csv('C:/Users/meiye/Courses/python_appliedTextMining/dataFiles/leffatykki_reviews_1.csv')\n",
    "df2 = pd.read_csv('C:/Users/meiye/Courses/python_appliedTextMining/dataFiles/leffatykki_reviews_2.csv')\n",
    "df3 = pd.read_csv('C:/Users/meiye/Courses/python_appliedTextMining/dataFiles/leffatykki_reviews_3.csv')\n",
    "df4 = pd.read_csv('C:/Users/meiye/Courses/python_appliedTextMining/dataFiles/leffatykki_reviews_4.csv')\n",
    "df5 = pd.read_csv('C:/Users/meiye/Courses/python_appliedTextMining/dataFiles/leffatykki_reviews_5.csv')\n",
    "df6 = pd.read_csv('C:/Users/meiye/Courses/python_appliedTextMining/dataFiles/leffatykki_reviews_6.csv')\n",
    "\n",
    "\n",
    "df = pd.concat([df1, df2, df3, df4, df5, df6])\n",
    "\n",
    "print(df.head())\n",
    "\n",
    "print('\\nOriginal data dimension : {}'.format(df.shape))"
   ]
  },
  {
   "cell_type": "code",
   "execution_count": 2,
   "metadata": {},
   "outputs": [
    {
     "data": {
      "text/plain": [
       "<matplotlib.axes._subplots.AxesSubplot at 0x20f43f69160>"
      ]
     },
     "execution_count": 2,
     "metadata": {},
     "output_type": "execute_result"
    }
   ],
   "source": [
    "df['score'].plot.hist()\n"
   ]
  },
  {
   "cell_type": "markdown",
   "metadata": {},
   "source": [
    "### Data preparation\n",
    "\n",
    "1. Shuffle the rows of read in data.\n",
    "2. Set score scale to (1 - 10). Original data has scale (10 - 100).\n",
    "3. Drop rows that has empty review text.\n",
    "4. Define binary sentiment classes (1 for positive; 0 for negative) based on score (1 - 3 as negative, 8 - 10 as positive, drop rows with score 4 - 7). From the histogram above, we can see we will have unbalanced data for the classes.\n"
   ]
  },
  {
   "cell_type": "code",
   "execution_count": 3,
   "metadata": {},
   "outputs": [
    {
     "name": "stdout",
     "output_type": "stream",
     "text": [
      "   Unnamed: 0  score                                               text  \\\n",
      "1        2066    9.0  Onpa jälleen Bond-maakarit murjasseet leffan. ...   \n",
      "3         669    8.0  Nerokas elokuvaohjaaja Kevin Smith tunnetaan n...   \n",
      "4        2803    9.0  Kotimainen sotaelokuva on aina tapaus. Sitä pi...   \n",
      "5         875    9.0  Long ago in a distant land, I, Aku, the shape-...   \n",
      "7        3162    8.0  Jeah, Elvis elää! Tätä mieltä on David Winkler...   \n",
      "\n",
      "                                               title  Positively Rated  \n",
      "1  Kuolema saa odottaa nousee ajan myötä jonkinmo...                 1  \n",
      "3  Vaatii populaarikulttuuritietämystä sekä ymmär...                 1  \n",
      "4  Tunteisiin vetoava elokuva sotiemme sankaritta...                 1  \n",
      "5           Hauska, kekseliäs ja visuaalisesti upea.                 1  \n",
      "7  Hieno, elämänmakuinen road movie. Remember the...                 1  \n",
      "\n",
      "Dimension of the data after pre-processing : (9365, 5)\n"
     ]
    }
   ],
   "source": [
    "# shuffle df rows\n",
    "df = df.sample(frac=1).reset_index(drop=True)\n",
    "\n",
    "# set score to scale 1--10\n",
    "df['score']=df['score']/10\n",
    "\n",
    "# drop rows with NaN review text\n",
    "df = df[df['text'].notna()]\n",
    "\n",
    "# Remove 'neutral' ratings (score 4 -7)\n",
    "df = df[(df['score'] < 4)|(df['score'] > 7) ]\n",
    "\n",
    "# Encode 8, 9, 10 as 1 (Positive)\n",
    "# Encode 1, 2, 3 as 0 (Negative)\n",
    "df['Positively Rated'] = np.where(df['score'] > 7, 1, 0)\n",
    "\n",
    "print(df.head())\n",
    "\n",
    "print('\\nDimension of the data after pre-processing : {}'.format(df.shape))"
   ]
  },
  {
   "cell_type": "code",
   "execution_count": 21,
   "metadata": {},
   "outputs": [
    {
     "name": "stdout",
     "output_type": "stream",
     "text": [
      "Proportion of data with positive rating (class 1) : 85.318%\n"
     ]
    }
   ],
   "source": [
    "# Check portion of class 1\n",
    "print('Proportion of data with positive rating (class 1) : {:.3f}%'.format(df['Positively Rated'].mean()*100,2))\n"
   ]
  },
  {
   "cell_type": "markdown",
   "metadata": {},
   "source": [
    "### Functions for model evaluation"
   ]
  },
  {
   "cell_type": "code",
   "execution_count": 115,
   "metadata": {},
   "outputs": [],
   "source": [
    "from sklearn.metrics import roc_auc_score\n",
    "from sklearn.metrics import confusion_matrix\n",
    "import matplotlib.pyplot as plt\n",
    "import seaborn as sns\n",
    "\n",
    "## Function for printing MEAN ACCURACY and ROC_AUC_SCORE\n",
    "#\n",
    "def Score_Model(x_test, y_test, model):\n",
    "    ## Print mean accuracy\n",
    "    print('Mean accuracy : {:.3f}'.format(model.score(x_test, y_test)) )\n",
    "    \n",
    "    prediction_prob = model.predict_proba(x_test)\n",
    "\n",
    "    ## Print ROC-AUC score\n",
    "    print('ROC-AUC score : {:.3f}'.format(roc_auc_score(y_test, prediction_prob[:,1])) )\n",
    "    \n",
    "    \n",
    "def Print_ConfMatrix(x_test, y_test, model):\n",
    "    \n",
    "    prediction = model.predict(x_test)\n",
    "    \n",
    "    ## generate and print confusion matrix\n",
    "    #\n",
    "    cm = confusion_matrix(y_test, prediction)\n",
    "    # Normalise\n",
    "    cmn = cm.astype('float') / cm.sum(axis=1)[:, np.newaxis]\n",
    "    fig, ax = plt.subplots(figsize=(7,5))\n",
    "    sns.heatmap(cmn, annot=True, fmt='.2f', xticklabels=[\"0\",\"1\"], yticklabels=[\"0\",\"1\"])\n",
    "    plt.ylabel('Actual')\n",
    "    plt.xlabel('Predicted')\n",
    "    plt.show(block=False)"
   ]
  },
  {
   "cell_type": "markdown",
   "metadata": {},
   "source": [
    "## Split data into training and test sets"
   ]
  },
  {
   "cell_type": "code",
   "execution_count": 6,
   "metadata": {},
   "outputs": [],
   "source": [
    "from sklearn.model_selection import train_test_split\n",
    "\n",
    "# Split data into training and test sets\n",
    "X_train, X_test, y_train, y_test = train_test_split(df['text'], \n",
    "                                                    df['Positively Rated'], \n",
    "                                                    random_state=7,\n",
    "                                                    test_size=0.2)"
   ]
  },
  {
   "cell_type": "markdown",
   "metadata": {},
   "source": [
    "## Logistic regression\n",
    "\n",
    "Here we tranform the review text to word count vector representation and then generate tfidf matrix and fit to a logistic regression model. \n",
    "\n",
    "We choose to include words and bi-grams for generating the count vector and a minimum document frequency of 10. For training the logistic regression model, the C parameter is set to 0.6. The \"balanced\" option for the \"class_weight\" parameter since the data is quite unbalanced (85% to 15%) for the classes. "
   ]
  },
  {
   "cell_type": "code",
   "execution_count": 153,
   "metadata": {},
   "outputs": [
    {
     "name": "stderr",
     "output_type": "stream",
     "text": [
      "C:\\Users\\meiye\\Anaconda3\\lib\\site-packages\\sklearn\\linear_model\\logistic.py:432: FutureWarning: Default solver will be changed to 'lbfgs' in 0.22. Specify a solver to silence this warning.\n",
      "  FutureWarning)\n"
     ]
    },
    {
     "data": {
      "text/plain": [
       "Pipeline(memory=None,\n",
       "         steps=[('vect',\n",
       "                 CountVectorizer(analyzer='word', binary=False,\n",
       "                                 decode_error='strict',\n",
       "                                 dtype=<class 'numpy.int64'>, encoding='utf-8',\n",
       "                                 input='content', lowercase=True, max_df=1.0,\n",
       "                                 max_features=None, min_df=10,\n",
       "                                 ngram_range=(1, 2), preprocessor=None,\n",
       "                                 stop_words=None, strip_accents=None,\n",
       "                                 token_pattern='(?u)\\\\b\\\\w\\\\w+\\\\b',\n",
       "                                 tokenizer=None, vocabulary=No...\n",
       "                ('tfidf',\n",
       "                 TfidfTransformer(norm='l2', smooth_idf=True,\n",
       "                                  sublinear_tf=False, use_idf=True)),\n",
       "                ('clf',\n",
       "                 LogisticRegression(C=0.6, class_weight='balanced', dual=False,\n",
       "                                    fit_intercept=True, intercept_scaling=1,\n",
       "                                    l1_ratio=None, max_iter=100,\n",
       "                                    multi_class='warn', n_jobs=None,\n",
       "                                    penalty='l2', random_state=None,\n",
       "                                    solver='warn', tol=0.0001, verbose=0,\n",
       "                                    warm_start=False))],\n",
       "         verbose=False)"
      ]
     },
     "execution_count": 153,
     "metadata": {},
     "output_type": "execute_result"
    }
   ],
   "source": [
    "from sklearn.linear_model import LogisticRegression\n",
    "from sklearn.pipeline import Pipeline\n",
    "from sklearn.feature_extraction.text import CountVectorizer\n",
    "from sklearn.feature_extraction.text import TfidfTransformer\n",
    "\n",
    "model_logreg = Pipeline([('vect', CountVectorizer(ngram_range=(1,2), min_df = 10)),\n",
    "                     ('tfidf', TfidfTransformer()),\n",
    "                     ('clf', LogisticRegression(C=0.6, class_weight='balanced')),\n",
    "                    ]) \n",
    "model_logreg.fit(X_train, y_train)\n"
   ]
  },
  {
   "cell_type": "code",
   "execution_count": 154,
   "metadata": {
    "scrolled": true
   },
   "outputs": [
    {
     "name": "stdout",
     "output_type": "stream",
     "text": [
      "Mean accuracy : 0.942\n",
      "ROC-AUC score : 0.967\n"
     ]
    },
    {
     "data": {
      "image/png": "[encoded data removed]",
      "text/plain": [
       "<Figure size 504x360 with 2 Axes>"
      ]
     },
     "metadata": {
      "needs_background": "light"
     },
     "output_type": "display_data"
    }
   ],
   "source": [
    "Score_Model(X_test, y_test, model_logreg)\n",
    "Print_ConfMatrix(X_test, y_test, model_logreg)\n"
   ]
  },
  {
   "cell_type": "markdown",
   "metadata": {},
   "source": [
    "### Examine features associated with the classes"
   ]
  },
  {
   "cell_type": "code",
   "execution_count": 11,
   "metadata": {
    "scrolled": true
   },
   "outputs": [
    {
     "name": "stdout",
     "output_type": "stream",
     "text": [
      "Smallest Coefs:\n",
      "['edes' 'sitten' 'mitään' 'huono' 'ei' 'surkea' 'olisi' 'juoni' 'ihan'\n",
      " 'ilmeisesti' 'että' 'jos' 'vain' 'pahasti' 'oikein' 'minkäänlaista'\n",
      " 'miksi' 'sentään' 'tylsä' 'valitettavasti']\n",
      "\n",
      "Largest Coefs: \n",
      "['ja' 'myös' 'hyvin' 'hän' 'loistava' 'hieman' 'tekee' 'sekä' 'joka'\n",
      " 'paras' 'elokuva' 'hänen' 'silti' 'hienosti' 'loistavasti' 'vaikka'\n",
      " 'kaikille' 'ehdottomasti' 'toimii' 'hieno']\n"
     ]
    }
   ],
   "source": [
    "logreg_vect = model_logreg.get_params()['vect']\n",
    "logreg_clf = model_logreg.get_params()['clf']\n",
    "\n",
    "# get the feature names as numpy array\n",
    "feature_names = np.array(logreg_vect.get_feature_names())\n",
    "\n",
    "# Sort the coefficients from the model\n",
    "sorted_coef_index = logreg_clf.coef_[0].argsort()\n",
    "\n",
    "# Find the 20 smallest and 20 largest coefficients\n",
    "# The 20 largest coefficients are being indexed using [:-11:-1] \n",
    "# so the list returned is in order of largest to smallest\n",
    "print('Smallest Coefs:\\n{}\\n'.format(feature_names[sorted_coef_index[:20]]))\n",
    "print('Largest Coefs: \\n{}'.format(feature_names[sorted_coef_index[:-21:-1]]))"
   ]
  },
  {
   "cell_type": "markdown",
   "metadata": {},
   "source": [
    "# Stoplist generation using mutual information based feature selection\n",
    "\n",
    "We have tried using the stopword provided by sklearn CountVectorizer() which resulted in degraded performance. Instead of using standard stopwords list, mutual information based feature selection method is used here to select poor class discriminating variables as stoplist."
   ]
  },
  {
   "cell_type": "code",
   "execution_count": 12,
   "metadata": {},
   "outputs": [
    {
     "data": {
      "text/plain": [
       "258618"
      ]
     },
     "execution_count": 12,
     "metadata": {},
     "output_type": "execute_result"
    }
   ],
   "source": [
    "# Fit the CountVectorizer to the training data\n",
    "vectX_train = CountVectorizer().fit(X_train)\n",
    "\n",
    "len(vectX_train.get_feature_names())"
   ]
  },
  {
   "cell_type": "code",
   "execution_count": 13,
   "metadata": {},
   "outputs": [
    {
     "data": {
      "text/plain": [
       "<7492x258618 sparse matrix of type '<class 'numpy.int64'>'\n",
       "\twith 1814192 stored elements in Compressed Sparse Row format>"
      ]
     },
     "execution_count": 13,
     "metadata": {},
     "output_type": "execute_result"
    }
   ],
   "source": [
    "# transform the documents in the training data to a document-term matrix\n",
    "X_train_vectorized = vectX_train.transform(X_train)\n",
    "\n",
    "X_train_vectorized"
   ]
  },
  {
   "cell_type": "code",
   "execution_count": 14,
   "metadata": {},
   "outputs": [],
   "source": [
    "from sklearn.feature_selection import mutual_info_classif as mi_classif\n",
    "\n",
    "mi = mi_classif(X_train_vectorized, y_train)\n"
   ]
  },
  {
   "cell_type": "code",
   "execution_count": 16,
   "metadata": {},
   "outputs": [
    {
     "name": "stdout",
     "output_type": "stream",
     "text": [
      "Head :         feature        mi\n",
      "25507     edes  0.032238\n",
      "134119    myös  0.017924\n",
      "203302  surkea  0.017072\n",
      "128036  mitään  0.015910\n",
      "52086    huono  0.015778 \n",
      "Tail :             feature            mi\n",
      "81075         kerää  7.747123e-09\n",
      "228695  tyypillisen  6.071876e-10\n",
      "219946    toisenkin  6.071876e-10\n",
      "138951      niskaan  6.071876e-10\n",
      "193127    siirtynyt  6.071876e-10\n"
     ]
    }
   ],
   "source": [
    "mi_df = pd.Series(mi)\n",
    "\n",
    "fea_df=pd.Series(vectX_train.get_feature_names())\n",
    "\n",
    "fea_mi_df = pd.concat([fea_df, mi_df], axis=1, ignore_index=True)\n",
    "fea_mi_df.columns=['feature', 'mi']\n",
    "fea_mi_sorted= fea_mi_df.sort_values(by=['mi'], ascending=False)\n",
    "\n",
    "print( 'Head : ', fea_mi_sorted.head(), '\\nTail :', fea_mi_sorted.tail())"
   ]
  },
  {
   "cell_type": "code",
   "execution_count": 17,
   "metadata": {},
   "outputs": [
    {
     "data": {
      "text/plain": [
       "<matplotlib.axes._subplots.AxesSubplot at 0x20f4d798fd0>"
      ]
     },
     "execution_count": 17,
     "metadata": {},
     "output_type": "execute_result"
    },
    {
     "data": {
      "image/png": "[encoded data removed]",
      "text/plain": [
       "<Figure size 432x288 with 1 Axes>"
      ]
     },
     "metadata": {
      "needs_background": "light"
     },
     "output_type": "display_data"
    }
   ],
   "source": [
    "## Histogram of mutual information estimates between feature and target\n",
    "#\n",
    "np.log10(fea_mi_sorted['mi']).hist(bins=50)"
   ]
  },
  {
   "cell_type": "markdown",
   "metadata": {},
   "source": [
    "From the histogram, features that give mutual information < 1e-5 will be included in the stopwords list."
   ]
  },
  {
   "cell_type": "code",
   "execution_count": 18,
   "metadata": {
    "scrolled": false
   },
   "outputs": [],
   "source": [
    "stoplist_len = len(fea_mi_sorted[fea_mi_sorted.mi<1e-5])\n",
    "stoplist=list(fea_mi_sorted.feature[-stoplist_len:-1])"
   ]
  },
  {
   "cell_type": "markdown",
   "metadata": {},
   "source": [
    "### Re-train logistic regression classifier with words in stoplist as stopwords"
   ]
  },
  {
   "cell_type": "code",
   "execution_count": 163,
   "metadata": {},
   "outputs": [
    {
     "data": {
      "text/plain": [
       "Pipeline(memory=None,\n",
       "         steps=[('vect',\n",
       "                 CountVectorizer(analyzer='word', binary=False,\n",
       "                                 decode_error='strict',\n",
       "                                 dtype=<class 'numpy.int64'>, encoding='utf-8',\n",
       "                                 input='content', lowercase=True, max_df=1.0,\n",
       "                                 max_features=None, min_df=10,\n",
       "                                 ngram_range=(1, 2), preprocessor=None,\n",
       "                                 stop_words=['valmiiksi', 'viedä', 'etsivät',\n",
       "                                             'pysymään', 'tehtäväkseen',\n",
       "                                             'suuret', 'hahmolta', 'näkyviss...\n",
       "                ('tfidf',\n",
       "                 TfidfTransformer(norm='l2', smooth_idf=True,\n",
       "                                  sublinear_tf=False, use_idf=True)),\n",
       "                ('clf',\n",
       "                 LogisticRegression(C=0.6, class_weight='balanced', dual=False,\n",
       "                                    fit_intercept=True, intercept_scaling=1,\n",
       "                                    l1_ratio=None, max_iter=100,\n",
       "                                    multi_class='warn', n_jobs=None,\n",
       "                                    penalty='l2', random_state=None,\n",
       "                                    solver='lbfgs', tol=0.0001, verbose=0,\n",
       "                                    warm_start=False))],\n",
       "         verbose=False)"
      ]
     },
     "execution_count": 163,
     "metadata": {},
     "output_type": "execute_result"
    }
   ],
   "source": [
    "model_logreg_stw = Pipeline([('vect', CountVectorizer(ngram_range=(1,2), min_df = 10, stop_words=stoplist)),\n",
    "                     ('tfidf', TfidfTransformer()),\n",
    "                     ('clf', LogisticRegression(C=0.6, class_weight='balanced', solver='lbfgs')),\n",
    "                    ]) \n",
    "model_logreg_stw.fit(X_train, y_train)\n"
   ]
  },
  {
   "cell_type": "code",
   "execution_count": 164,
   "metadata": {},
   "outputs": [
    {
     "name": "stdout",
     "output_type": "stream",
     "text": [
      "Mean accuracy : 0.941\n",
      "ROC-AUC score : 0.967\n"
     ]
    },
    {
     "data": {
      "image/png": "[encoded data removed]",
      "text/plain": [
       "<Figure size 504x360 with 2 Axes>"
      ]
     },
     "metadata": {
      "needs_background": "light"
     },
     "output_type": "display_data"
    }
   ],
   "source": [
    "Score_Model(X_test, y_test, model_logreg_stw)\n",
    "Print_ConfMatrix(X_test, y_test, model_logreg_stw)\n"
   ]
  },
  {
   "cell_type": "code",
   "execution_count": 123,
   "metadata": {},
   "outputs": [
    {
     "name": "stdout",
     "output_type": "stream",
     "text": [
      "Smallest Coefs:\n",
      "['edes' 'sitten' 'mitään' 'huono' 'ei' 'surkea' 'olisi' 'juoni'\n",
      " 'ilmeisesti' 'ihan' 'että' 'jos' 'vain' 'pahasti' 'minkäänlaista'\n",
      " 'oikein' 'miksi' 'sentään' 'tylsä' 'valitettavasti']\n",
      "\n",
      "Largest Coefs: \n",
      "['ja' 'myös' 'hyvin' 'hän' 'loistava' 'hieman' 'tekee' 'sekä' 'joka'\n",
      " 'paras' 'elokuva' 'silti' 'hienosti' 'hänen' 'loistavasti' 'kaikille'\n",
      " 'vaikka' 'ehdottomasti' 'toimii' 'hieno']\n"
     ]
    }
   ],
   "source": [
    "logreg_vect_stw = model_logreg_stw.get_params()['vect']\n",
    "logreg_clf_stw = model_logreg_stw.get_params()['clf']\n",
    "\n",
    "# get the feature names as numpy array\n",
    "feature_names_stw = np.array(logreg_vect_stw.get_feature_names())\n",
    "\n",
    "# Sort the coefficients from the model\n",
    "sorted_coef_index = logreg_clf_stw.coef_[0].argsort()\n",
    "\n",
    "# Find the 20 smallest and 20 largest coefficients\n",
    "# The 20 largest coefficients are being indexed using [:-11:-1] \n",
    "# so the list returned is in order of largest to smallest\n",
    "print('Smallest Coefs:\\n{}\\n'.format(feature_names_stw[sorted_coef_index[:20]]))\n",
    "print('Largest Coefs: \\n{}'.format(feature_names_stw[sorted_coef_index[:-21:-1]]))"
   ]
  },
  {
   "cell_type": "markdown",
   "metadata": {},
   "source": [
    "# Naive Bayes models"
   ]
  },
  {
   "cell_type": "markdown",
   "metadata": {},
   "source": [
    "## Multinomial Naive Bayes"
   ]
  },
  {
   "cell_type": "code",
   "execution_count": 103,
   "metadata": {},
   "outputs": [
    {
     "data": {
      "text/plain": [
       "Pipeline(memory=None,\n",
       "         steps=[('vect',\n",
       "                 CountVectorizer(analyzer='word', binary=False,\n",
       "                                 decode_error='strict',\n",
       "                                 dtype=<class 'numpy.int64'>, encoding='utf-8',\n",
       "                                 input='content', lowercase=True, max_df=1.0,\n",
       "                                 max_features=None, min_df=10,\n",
       "                                 ngram_range=(1, 2), preprocessor=None,\n",
       "                                 stop_words=['valmiiksi', 'viedä', 'etsivät',\n",
       "                                             'pysymään', 'tehtäväkseen',\n",
       "                                             'suuret', 'hahmolta', 'näkyviss...\n",
       "                                             'koituu', 'laajentaa', 'veljeään',\n",
       "                                             'omillaan', 'tehostaa', 'puuttui',\n",
       "                                             'loppuen', 'versiot',\n",
       "                                             'vertailemaan', 'kulttuurista',\n",
       "                                             'kamppailee', 'pitempi',\n",
       "                                             'kunnioittavan', 'glamouria',\n",
       "                                             'karskin', 'kiihkeä', ...],\n",
       "                                 strip_accents=None,\n",
       "                                 token_pattern='(?u)\\\\b\\\\w\\\\w+\\\\b',\n",
       "                                 tokenizer=None, vocabulary=None)),\n",
       "                ('clf',\n",
       "                 MultinomialNB(alpha=0.5, class_prior=None, fit_prior=True))],\n",
       "         verbose=False)"
      ]
     },
     "execution_count": 103,
     "metadata": {},
     "output_type": "execute_result"
    }
   ],
   "source": [
    "from sklearn import naive_bayes\n",
    "from sklearn.pipeline import Pipeline\n",
    "from sklearn.feature_extraction.text import TfidfTransformer\n",
    "\n",
    "model_MNB = Pipeline([('vect', CountVectorizer(ngram_range=(1,2), min_df = 10, stop_words=stoplist)),\n",
    "#                      ('tfidf', TfidfTransformer()),\n",
    "                     ('clf', naive_bayes.MultinomialNB(alpha=0.5)),\n",
    "                    ]) \n",
    "model_MNB.fit(X_train, y_train)"
   ]
  },
  {
   "cell_type": "code",
   "execution_count": 118,
   "metadata": {},
   "outputs": [
    {
     "name": "stdout",
     "output_type": "stream",
     "text": [
      "Mean accuracy : 0.946\n",
      "ROC-AUC score : 0.972\n"
     ]
    },
    {
     "data": {
      "image/png": "[encoded data removed]",
      "text/plain": [
       "<Figure size 504x360 with 2 Axes>"
      ]
     },
     "metadata": {
      "needs_background": "light"
     },
     "output_type": "display_data"
    }
   ],
   "source": [
    "Score_Model(X_test, y_test, model_MNB)\n",
    "Print_ConfMatrix(X_test, y_test, model_MNB)\n"
   ]
  },
  {
   "cell_type": "code",
   "execution_count": null,
   "metadata": {},
   "outputs": [],
   "source": [
    "predict = model_MNB.predict(['tosi surkea'])\n",
    "predict\n",
    "\n"
   ]
  },
  {
   "cell_type": "markdown",
   "metadata": {},
   "source": [
    "## Complement Naive bayes"
   ]
  },
  {
   "cell_type": "code",
   "execution_count": 176,
   "metadata": {},
   "outputs": [
    {
     "data": {
      "text/plain": [
       "Pipeline(memory=None,\n",
       "         steps=[('vect',\n",
       "                 CountVectorizer(analyzer='word', binary=False,\n",
       "                                 decode_error='strict',\n",
       "                                 dtype=<class 'numpy.int64'>, encoding='utf-8',\n",
       "                                 input='content', lowercase=True, max_df=1.0,\n",
       "                                 max_features=None, min_df=10,\n",
       "                                 ngram_range=(1, 2), preprocessor=None,\n",
       "                                 stop_words=['ylä', 'edelleenkään', 'sormensa',\n",
       "                                             'vanhempaa', 'synny',\n",
       "                                             'ihmettelemään', 'käänteistä',\n",
       "                                             'maa...\n",
       "                                             'nenän', 'goldsmithin', 'nuoriso',\n",
       "                                             'sopinut', 'tajusin', 'paukkuu',\n",
       "                                             'nautinnollista', 'kontrastia',\n",
       "                                             'tajuavat', 'low', 'kestävän',\n",
       "                                             'älyä', 'hänhän', 'autollaan',\n",
       "                                             'väri', 'päähenkilölle', ...],\n",
       "                                 strip_accents=None,\n",
       "                                 token_pattern='(?u)\\\\b\\\\w\\\\w+\\\\b',\n",
       "                                 tokenizer=None, vocabulary=None)),\n",
       "                ('clf',\n",
       "                 ComplementNB(alpha=0.5, class_prior=None, fit_prior=True,\n",
       "                              norm=False))],\n",
       "         verbose=False)"
      ]
     },
     "execution_count": 176,
     "metadata": {},
     "output_type": "execute_result"
    }
   ],
   "source": [
    "model_CNB = Pipeline([('vect', CountVectorizer(ngram_range=(1,2), min_df = 10, stop_words=stoplist[-1300:-1])),\n",
    "#                      ('tfidf', TfidfTransformer()),\n",
    "                     ('clf', naive_bayes.ComplementNB(alpha=0.5)),\n",
    "                    ]) \n",
    "model_CNB.fit(X_train, y_train)"
   ]
  },
  {
   "cell_type": "code",
   "execution_count": 177,
   "metadata": {},
   "outputs": [
    {
     "name": "stdout",
     "output_type": "stream",
     "text": [
      "Mean accuracy : 0.944\n",
      "ROC-AUC score : 0.972\n"
     ]
    },
    {
     "data": {
      "image/png": "[encoded data removed]",
      "text/plain": [
       "<Figure size 504x360 with 2 Axes>"
      ]
     },
     "metadata": {
      "needs_background": "light"
     },
     "output_type": "display_data"
    }
   ],
   "source": [
    "Score_Model(X_test, y_test, model_CNB)\n",
    "Print_ConfMatrix(X_test, y_test, model_CNB)\n",
    "\n"
   ]
  },
  {
   "cell_type": "markdown",
   "metadata": {},
   "source": [
    "## Feature importance"
   ]
  },
  {
   "cell_type": "code",
   "execution_count": 1,
   "metadata": {},
   "outputs": [],
   "source": [
    "def top_n_features(n, clf, vectorizer):\n",
    "    class_0_prob_sorted = (-clf.feature_log_prob_[0, :]).argsort()               #Note : Putting a - sign indicates the indexes will be sorted in descending order.\n",
    "    class_1_prob_sorted = (-clf.feature_log_prob_[1, :]).argsort()\n",
    "    \n",
    "    class_0_features = np.take(vectorizer.get_feature_names(), class_0_prob_sorted[:n])\n",
    "    class_1_features = np.take(vectorizer.get_feature_names(), class_1_prob_sorted[:n])\n",
    "     \n",
    "    print(\"The top {} most important features of class 1 :\\n\".format(n))\n",
    "    print(class_1_features)\n",
    "    \n",
    "    print(\"\\nThe top {} most important features from class 0 :\\n\".format(n))\n",
    "    print(class_0_features)\n",
    "    \n"
   ]
  },
  {
   "cell_type": "code",
   "execution_count": null,
   "metadata": {},
   "outputs": [],
   "source": []
  }
 ],
 "metadata": {
  "kernelspec": {
   "display_name": "Python 3",
   "language": "python",
   "name": "python3"
  },
  "language_info": {
   "codemirror_mode": {
    "name": "ipython",
    "version": 3
   },
   "file_extension": ".py",
   "mimetype": "text/x-python",
   "name": "python",
   "nbconvert_exporter": "python",
   "pygments_lexer": "ipython3",
   "version": "3.7.3"
  }
 },
 "nbformat": 4,
 "nbformat_minor": 2
}
